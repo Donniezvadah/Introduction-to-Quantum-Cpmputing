{
 "cells": [
  {
   "cell_type": "markdown",
   "id": "1661248a-8df4-42ec-9007-d12f8d07f36b",
   "metadata": {},
   "source": [
    "\n",
    "# Student:  **Donald Zvada**\n",
    "_________________________________\n",
    "_________________________________\n",
    "\n",
    "## Course: Quantum Computing\n",
    "\n",
    "## Assignment: 1\n",
    "___________________________________________________________________________________________"
   ]
  },
  {
   "cell_type": "markdown",
   "id": "8f2e9a60-bc3d-4031-9e42-a010139a1332",
   "metadata": {},
   "source": [
    "## Question 2:  Tensor product\n",
    "__________________________________\n",
    "\n",
    "A fundamental property of the tensor product is that\n",
    "\n",
    "$$(A \\otimes B)(C \\otimes D)=(A C) \\otimes(B D)$$\n",
    "\n",
    "where $A, B, C, D$ are square matrices of equal size. Use sage to verify this property for arbitrary $2 \\times 2$ matrices. For example, set $A=\\left(\\begin{array}{cc}a_{11} & a_{12} \\\\ a_{21} & a_{22}\\end{array}\\right)$, and similarly for $B, C, D$."
   ]
  },
  {
   "cell_type": "code",
   "execution_count": 2,
   "id": "c78858ce-e505-4319-979c-686113fd16f6",
   "metadata": {},
   "outputs": [],
   "source": [
    "\n",
    "# Define the variables\n",
    "var('a11 a12 a21 a22')\n",
    "var('b11 b12 b21 b22')\n",
    "var('c11 c12 c21 c22')\n",
    "var('d11 d12 d21 d22')\n",
    "\n",
    "# Define the matrices\n",
    "a = matrix([[a11, a12], [a21, a22]])\n",
    "b = matrix([[b11, b12], [b21, b22]])\n",
    "c = matrix([[c11, c12], [c21, c22]])\n",
    "d = matrix([[d11, d12], [d21, d22]])\n",
    "\n",
    "#"
   ]
  },
  {
   "cell_type": "code",
   "execution_count": 3,
   "id": "fdf217da-d9cd-4408-9173-662017db8da9",
   "metadata": {},
   "outputs": [
    {
     "data": {
      "text/html": [
       "<html>\\(\\displaystyle \\left(\\begin{array}{rr}\n",
       "a_{11} & a_{12} \\\\\n",
       "a_{21} & a_{22}\n",
       "\\end{array}\\right)\\)</html>"
      ],
      "text/latex": [
       "$\\displaystyle \\left(\\begin{array}{rr}\n",
       "a_{11} & a_{12} \\\\\n",
       "a_{21} & a_{22}\n",
       "\\end{array}\\right)$"
      ],
      "text/plain": [
       "[a11 a12]\n",
       "[a21 a22]"
      ]
     },
     "metadata": {},
     "output_type": "display_data"
    },
    {
     "data": {
      "text/html": [
       "<html>\\(\\displaystyle \\left(\\begin{array}{rr}\n",
       "b_{11} & b_{12} \\\\\n",
       "b_{21} & b_{22}\n",
       "\\end{array}\\right)\\)</html>"
      ],
      "text/latex": [
       "$\\displaystyle \\left(\\begin{array}{rr}\n",
       "b_{11} & b_{12} \\\\\n",
       "b_{21} & b_{22}\n",
       "\\end{array}\\right)$"
      ],
      "text/plain": [
       "[b11 b12]\n",
       "[b21 b22]"
      ]
     },
     "metadata": {},
     "output_type": "display_data"
    },
    {
     "data": {
      "text/html": [
       "<html>\\(\\displaystyle \\left(\\begin{array}{rr}\n",
       "c_{11} & c_{12} \\\\\n",
       "c_{21} & c_{22}\n",
       "\\end{array}\\right)\\)</html>"
      ],
      "text/latex": [
       "$\\displaystyle \\left(\\begin{array}{rr}\n",
       "c_{11} & c_{12} \\\\\n",
       "c_{21} & c_{22}\n",
       "\\end{array}\\right)$"
      ],
      "text/plain": [
       "[c11 c12]\n",
       "[c21 c22]"
      ]
     },
     "metadata": {},
     "output_type": "display_data"
    },
    {
     "data": {
      "text/html": [
       "<html>\\(\\displaystyle \\left(\\begin{array}{rr}\n",
       "d_{11} & d_{12} \\\\\n",
       "d_{21} & d_{22}\n",
       "\\end{array}\\right)\\)</html>"
      ],
      "text/latex": [
       "$\\displaystyle \\left(\\begin{array}{rr}\n",
       "d_{11} & d_{12} \\\\\n",
       "d_{21} & d_{22}\n",
       "\\end{array}\\right)$"
      ],
      "text/plain": [
       "[d11 d12]\n",
       "[d21 d22]"
      ]
     },
     "metadata": {},
     "output_type": "display_data"
    }
   ],
   "source": [
    "show(a), show(b), show(c), show(d);"
   ]
  },
  {
   "cell_type": "code",
   "execution_count": 4,
   "id": "f24ff45a-db97-4b96-94cb-a468f02e72e5",
   "metadata": {},
   "outputs": [],
   "source": [
    " #Compute the tensor products\n",
    "ab = a.tensor_product(b)\n",
    "cd = c.tensor_product(d)"
   ]
  },
  {
   "cell_type": "code",
   "execution_count": 5,
   "id": "ab591b2f-d9ba-464f-ab63-9d3f75ea9534",
   "metadata": {},
   "outputs": [
    {
     "name": "stdout",
     "output_type": "stream",
     "text": [
      "True\n"
     ]
    }
   ],
   "source": [
    "# Compute the left-hand side of the equation\n",
    "lhs = (a.tensor_product(b))*(c.tensor_product(d))\n",
    "\n",
    "# Compute the right-hand side of the equation\n",
    "rhs = (a*c).tensor_product(b*d)\n",
    "\n",
    "# Verify the equation\n",
    "print(lhs == rhs)"
   ]
  },
  {
   "cell_type": "markdown",
   "id": "257867e2-7fc3-49e1-98ef-5fd87a62cab6",
   "metadata": {},
   "source": [
    "$(A \\otimes B)(C \\otimes D)=(A C) \\otimes(B D)$ is $\\color{green}{True}$."
   ]
  },
  {
   "cell_type": "code",
   "execution_count": null,
   "id": "dded53d4-365c-48d3-8bf6-aa1b78229795",
   "metadata": {},
   "outputs": [],
   "source": []
  },
  {
   "cell_type": "code",
   "execution_count": null,
   "id": "39d8c264-966e-41c7-b535-a4df44a215aa",
   "metadata": {},
   "outputs": [],
   "source": []
  },
  {
   "cell_type": "code",
   "execution_count": null,
   "id": "ef6e9262-fd75-448c-9937-9f8df9293100",
   "metadata": {},
   "outputs": [],
   "source": []
  },
  {
   "cell_type": "markdown",
   "id": "65884d7a-0099-47b1-87cf-58326de1f3f8",
   "metadata": {},
   "source": [
    "# Question 3: Pauli matrices\n",
    "\n",
    "The Pauli matrices are defined by\n",
    "\n",
    "$$\n",
    "\\sigma^{x}=\\left(\\begin{array}{ll}\n",
    "0 & 1  \\tag{1}\\\\\n",
    "1 & 0\n",
    "\\end{array}\\right), \\quad \\sigma^{y}=\\left(\\begin{array}{rr}\n",
    "0 & -i \\\\\n",
    "i & 0\n",
    "\\end{array}\\right), \\quad \\sigma^{z}=\\left(\\begin{array}{rr}\n",
    "1 & 0 \\\\\n",
    "0 & -1\n",
    "\\end{array}\\right) .\n",
    "$$\n",
    "\n",
    "Here and below we use the indices $(x, y, z)$ and $(1,2,3)$ interchangeably. \\\n",
    "\n",
    "### Prove (either by hand or with sage) the identity \n",
    "\n",
    "\n",
    "\\begin{equation*}\n",
    "(\\vec{a} \\cdot \\vec{\\sigma})(\\vec{b} \\cdot \\vec{\\sigma})=(\\vec{a} \\cdot \\vec{b}) \\mathbb{I}+i(\\vec{a} \\times \\vec{b}) \\cdot \\vec{\\sigma} \\tag{2}\n",
    "\\end{equation*}\n",
    "\n",
    "\n",
    "where $\\vec{a}=\\left(\\begin{array}{c}a_{x} \\\\ a_{y} \\\\ a_{z}\\end{array}\\right)$ and $\\vec{b}=\\left(\\begin{array}{l}b_{x} \\\\ b_{y} \\\\ b_{z}\\end{array}\\right)$ are arbitrary 3-component vectors, $\\vec{a} \\times \\vec{b}$ is their cross (vector) product, and $\\mathbb{I}=\\sigma^{0}$ is the 2-dimensional identity matrix. Moreover, $\\vec{\\sigma}$ is a short-hand notation for the set of 3 Pauli matrices. So, $\\vec{a} \\cdot \\vec{\\sigma}$ is the following $2 \\times 2$ matrix\n",
    "\n",
    "$$\n",
    "\\begin{aligned}\n",
    "\\vec{a} \\cdot \\vec{\\sigma} & =a_{x} \\sigma^{x}+a_{y} \\sigma^{y}+a_{z} \\sigma^{z} \\\\\n",
    "& =a_{x}\\left(\\begin{array}{ll}\n",
    "0 & 1 \\\\\n",
    "1 & 0\n",
    "\\end{array}\\right)+a_{y}\\left(\\begin{array}{rr}\n",
    "0 & -i \\\\\n",
    "i & 0\n",
    "\\end{array}\\right)+a_{z}\\left(\\begin{array}{rr}\n",
    "1 & 0 \\\\\n",
    "0 & -1\n",
    "\\end{array}\\right) \\\\\n",
    "& =\\left(\\begin{array}{cc}\n",
    "a_{z} & a_{x}-i a_{y} \\\\\n",
    "a_{x}+i a_{y} & -a_{z}\n",
    "\\end{array}\\right) .\n",
    "\\end{aligned}\n",
    "$$\n",
    "\n",
    "### Recall that the exponential of a matrix $A$ is defined by its Taylor series expansion\n",
    "\n",
    "$$\n",
    "e^{A}=\\mathbb{I}+A+\\frac{1}{2!} A^{2}+\\ldots\n",
    "$$\n",
    "\n",
    "Show that\n",
    "\n",
    "\n",
    "\\begin{equation*}\n",
    "e^{i \\beta \\hat{r} \\cdot \\vec{\\sigma}}=\\cos (\\beta) \\mathbb{I}+i \\sin (\\beta) \\hat{r} \\cdot \\vec{\\sigma}, \\tag{3}\n",
    "\\end{equation*}\n",
    "\n",
    "\n",
    "where $\\hat{r}$ is an arbitrary 3 -dimensional unit vector $(\\hat{r} \\cdot \\hat{r}=1$ ), and $\\beta$ is a real number. Hint: use (2) to compute $(\\hat{r} \\cdot \\vec{\\sigma})^{2}$."
   ]
  },
  {
   "cell_type": "code",
   "execution_count": null,
   "id": "799f3d46-d65d-4540-95ea-ce815dcb4414",
   "metadata": {},
   "outputs": [],
   "source": []
  },
  {
   "cell_type": "code",
   "execution_count": 28,
   "id": "ee720a3c-303e-4ad2-8c04-def9fc357c59",
   "metadata": {},
   "outputs": [],
   "source": [
    "# Define the Pauli matrices\n",
    "sx = matrix([[0, 1], [1, 0]])\n",
    "sy = matrix([[0, -1j], [1j, 0]])\n",
    "sz = matrix([[1, 0], [0, -1]])\n",
    "\n",
    "# Define the vectors a and b\n",
    "a = vector([var('a_x'), var('a_y'), var('a_z')])\n",
    "b = vector([var('b_x'), var('b_y'), var('b_z')])\n",
    "\n",
    "# Compute the dot products\n",
    "a_dot_sigma = a[0]*sx + a[1]*sy + a[2]*sz\n",
    "b_dot_sigma = b[0]*sx + b[1]*sy + b[2]*sz\n",
    "\n",
    "# Compute the left-hand side of the identity (2)\n",
    "LHS = (a_dot_sigma * b_dot_sigma).simplify()"
   ]
  },
  {
   "cell_type": "code",
   "execution_count": 30,
   "id": "77821a34-09ae-4137-a203-73f364ddb0b8",
   "metadata": {},
   "outputs": [
    {
     "data": {
      "text/html": [
       "<html>\\(\\displaystyle \\left(\\begin{array}{rr}\n",
       "a_{z} & a_{x} - 1.00000000000000i \\, a_{y} \\\\\n",
       "a_{x} + 1.00000000000000i \\, a_{y} & -a_{z}\n",
       "\\end{array}\\right)\\)</html>"
      ],
      "text/latex": [
       "$\\displaystyle \\left(\\begin{array}{rr}\n",
       "a_{z} & a_{x} - 1.00000000000000i \\, a_{y} \\\\\n",
       "a_{x} + 1.00000000000000i \\, a_{y} & -a_{z}\n",
       "\\end{array}\\right)$"
      ],
      "text/plain": [
       "[                         a_z a_x - 1.00000000000000*I*a_y]\n",
       "[a_x + 1.00000000000000*I*a_y                         -a_z]"
      ]
     },
     "metadata": {},
     "output_type": "display_data"
    },
    {
     "data": {
      "text/html": [
       "<html>\\(\\displaystyle \\left(\\begin{array}{rr}\n",
       "b_{z} & b_{x} - 1.00000000000000i \\, b_{y} \\\\\n",
       "b_{x} + 1.00000000000000i \\, b_{y} & -b_{z}\n",
       "\\end{array}\\right)\\)</html>"
      ],
      "text/latex": [
       "$\\displaystyle \\left(\\begin{array}{rr}\n",
       "b_{z} & b_{x} - 1.00000000000000i \\, b_{y} \\\\\n",
       "b_{x} + 1.00000000000000i \\, b_{y} & -b_{z}\n",
       "\\end{array}\\right)$"
      ],
      "text/plain": [
       "[                         b_z b_x - 1.00000000000000*I*b_y]\n",
       "[b_x + 1.00000000000000*I*b_y                         -b_z]"
      ]
     },
     "metadata": {},
     "output_type": "display_data"
    }
   ],
   "source": [
    "show(a_dot_sigma), show(b_dot_sigma);"
   ]
  },
  {
   "cell_type": "code",
   "execution_count": 8,
   "id": "1bd8f4a7-3b7b-4545-9baa-aeaa6e724307",
   "metadata": {},
   "outputs": [
    {
     "data": {
      "text/html": [
       "<html>\\(\\displaystyle \\left(\\begin{array}{rr}\n",
       "{\\left(a_{x} - 1.0i \\, a_{y}\\right)} {\\left(b_{x} + 1.0i \\, b_{y}\\right)} + a_{z} b_{z} & a_{z} {\\left(b_{x} - 1.0i \\, b_{y}\\right)} - {\\left(a_{x} - 1.0i \\, a_{y}\\right)} b_{z} \\\\\n",
       "-a_{z} {\\left(b_{x} + 1.0i \\, b_{y}\\right)} + {\\left(a_{x} + 1.0i \\, a_{y}\\right)} b_{z} & {\\left(a_{x} + 1.0i \\, a_{y}\\right)} {\\left(b_{x} - 1.0i \\, b_{y}\\right)} + a_{z} b_{z}\n",
       "\\end{array}\\right)\\)</html>"
      ],
      "text/latex": [
       "$\\displaystyle \\left(\\begin{array}{rr}\n",
       "{\\left(a_{x} - 1.0i \\, a_{y}\\right)} {\\left(b_{x} + 1.0i \\, b_{y}\\right)} + a_{z} b_{z} & a_{z} {\\left(b_{x} - 1.0i \\, b_{y}\\right)} - {\\left(a_{x} - 1.0i \\, a_{y}\\right)} b_{z} \\\\\n",
       "-a_{z} {\\left(b_{x} + 1.0i \\, b_{y}\\right)} + {\\left(a_{x} + 1.0i \\, a_{y}\\right)} b_{z} & {\\left(a_{x} + 1.0i \\, a_{y}\\right)} {\\left(b_{x} - 1.0i \\, b_{y}\\right)} + a_{z} b_{z}\n",
       "\\end{array}\\right)$"
      ],
      "text/plain": [
       "[ (a_x - 1.0*I*a_y)*(b_x + 1.0*I*b_y) + a_z*b_z  a_z*(b_x - 1.0*I*b_y) - (a_x - 1.0*I*a_y)*b_z]\n",
       "[-a_z*(b_x + 1.0*I*b_y) + (a_x + 1.0*I*a_y)*b_z  (a_x + 1.0*I*a_y)*(b_x - 1.0*I*b_y) + a_z*b_z]"
      ]
     },
     "metadata": {},
     "output_type": "display_data"
    }
   ],
   "source": [
    "# %display latex\n",
    "\n",
    "show(LHS)"
   ]
  },
  {
   "cell_type": "code",
   "execution_count": 41,
   "id": "03bbe89f-9e5b-4906-8832-0720f30dc79b",
   "metadata": {},
   "outputs": [],
   "source": [
    "# Compute the dot product of a and b\n",
    "a_dot_b = a.dot_product(b)\n",
    "\n",
    "# Compute the cross product of a and b\n",
    "a_cross_b = a.cross_product(b)\n",
    "\n",
    "# Compute the right-hand side of the identity (2)\n",
    "RHS = (a_dot_b * matrix.identity(2)) + (1j * sum([a_cross_b[i]*[sx, sy, sz][i] for i in [0..2]])).simplify()"
   ]
  },
  {
   "cell_type": "code",
   "execution_count": 42,
   "id": "fd9fa15d-6c8a-4b45-9365-161ea8ddde0c",
   "metadata": {},
   "outputs": [
    {
     "data": {
      "text/html": [
       "<html>\\(\\displaystyle a_{x} b_{x} + a_{y} b_{y} + a_{z} b_{z}\\)</html>"
      ],
      "text/latex": [
       "$\\displaystyle a_{x} b_{x} + a_{y} b_{y} + a_{z} b_{z}$"
      ],
      "text/plain": [
       "a_x*b_x + a_y*b_y + a_z*b_z"
      ]
     },
     "metadata": {},
     "output_type": "display_data"
    },
    {
     "data": {
      "text/html": [
       "<html>\\(\\displaystyle \\left(-a_{z} b_{y} + a_{y} b_{z},\\,a_{z} b_{x} - a_{x} b_{z},\\,-a_{y} b_{x} + a_{x} b_{y}\\right)\\)</html>"
      ],
      "text/latex": [
       "$\\displaystyle \\left(-a_{z} b_{y} + a_{y} b_{z},\\,a_{z} b_{x} - a_{x} b_{z},\\,-a_{y} b_{x} + a_{x} b_{y}\\right)$"
      ],
      "text/plain": [
       "(-a_z*b_y + a_y*b_z, a_z*b_x - a_x*b_z, -a_y*b_x + a_x*b_y)"
      ]
     },
     "metadata": {},
     "output_type": "display_data"
    },
    {
     "data": {
      "text/html": [
       "<html>\\(\\displaystyle \\left(\\begin{array}{rr}\n",
       "a_{x} b_{x} - 1.0i \\, a_{y} b_{x} + 1.0i \\, a_{x} b_{y} + a_{y} b_{y} + a_{z} b_{z} & 1.0 \\, a_{z} b_{x} - 1.0i \\, a_{z} b_{y} - 1.0 \\, a_{x} b_{z} + 1.0i \\, a_{y} b_{z} \\\\\n",
       "-1.0 \\, a_{z} b_{x} - 1.0i \\, a_{z} b_{y} + 1.0 \\, a_{x} b_{z} + 1.0i \\, a_{y} b_{z} & a_{x} b_{x} + 1.0i \\, a_{y} b_{x} - 1.0i \\, a_{x} b_{y} + a_{y} b_{y} + a_{z} b_{z}\n",
       "\\end{array}\\right)\\)</html>"
      ],
      "text/latex": [
       "$\\displaystyle \\left(\\begin{array}{rr}\n",
       "a_{x} b_{x} - 1.0i \\, a_{y} b_{x} + 1.0i \\, a_{x} b_{y} + a_{y} b_{y} + a_{z} b_{z} & 1.0 \\, a_{z} b_{x} - 1.0i \\, a_{z} b_{y} - 1.0 \\, a_{x} b_{z} + 1.0i \\, a_{y} b_{z} \\\\\n",
       "-1.0 \\, a_{z} b_{x} - 1.0i \\, a_{z} b_{y} + 1.0 \\, a_{x} b_{z} + 1.0i \\, a_{y} b_{z} & a_{x} b_{x} + 1.0i \\, a_{y} b_{x} - 1.0i \\, a_{x} b_{y} + a_{y} b_{y} + a_{z} b_{z}\n",
       "\\end{array}\\right)$"
      ],
      "text/plain": [
       "[a_x*b_x - 1.0*I*a_y*b_x + 1.0*I*a_x*b_y + a_y*b_y + a_z*b_z   1.0*a_z*b_x - 1.0*I*a_z*b_y - 1.0*a_x*b_z + 1.0*I*a_y*b_z]\n",
       "[ -1.0*a_z*b_x - 1.0*I*a_z*b_y + 1.0*a_x*b_z + 1.0*I*a_y*b_z a_x*b_x + 1.0*I*a_y*b_x - 1.0*I*a_x*b_y + a_y*b_y + a_z*b_z]"
      ]
     },
     "metadata": {},
     "output_type": "display_data"
    }
   ],
   "source": [
    "show(a_dot_b), show(a_cross_b), show(RHS);"
   ]
  },
  {
   "cell_type": "code",
   "execution_count": 43,
   "id": "b11dce5d-efd7-4e1d-8673-aaa637e84000",
   "metadata": {},
   "outputs": [
    {
     "name": "stdout",
     "output_type": "stream",
     "text": [
      "True\n"
     ]
    }
   ],
   "source": [
    "\n",
    "print(LHS == RHS)"
   ]
  },
  {
   "cell_type": "markdown",
   "id": "3a9756f9-b848-48d1-b8a1-c1a7b95fe003",
   "metadata": {},
   "source": [
    "$(\\vec{a} \\cdot \\vec{\\sigma})(\\vec{b} \\cdot \\vec{\\sigma})=(\\vec{a} \\cdot \\vec{b}) \\mathbb{I}+i(\\vec{a} \\times \\vec{b}) \\cdot \\vec{\\sigma}$ is $\\color{green}{True}$."
   ]
  },
  {
   "cell_type": "code",
   "execution_count": 12,
   "id": "c9831929-9ff2-4dd7-80b8-402601ceddce",
   "metadata": {},
   "outputs": [
    {
     "data": {
      "text/html": [
       "<html>\\(\\displaystyle \\left(\\begin{array}{rr|rr}\n",
       "a & 0 & b & 0 \\\\\n",
       "0 & a & 0 & b \\\\\n",
       "\\hline\n",
       " c & 0 & d & 0 \\\\\n",
       "0 & c & 0 & d\n",
       "\\end{array}\\right)\\)</html>"
      ],
      "text/latex": [
       "$\\displaystyle \\left(\\begin{array}{rr|rr}\n",
       "a & 0 & b & 0 \\\\\n",
       "0 & a & 0 & b \\\\\n",
       "\\hline\n",
       " c & 0 & d & 0 \\\\\n",
       "0 & c & 0 & d\n",
       "\\end{array}\\right)$"
      ],
      "text/plain": [
       "[a 0|b 0]\n",
       "[0 a|0 b]\n",
       "[---+---]\n",
       "[c 0|d 0]\n",
       "[0 c|0 d]"
      ]
     },
     "metadata": {},
     "output_type": "display_data"
    },
    {
     "data": {
      "text/html": [
       "<html>\\(\\displaystyle \\mathrm{True}\\)</html>"
      ],
      "text/latex": [
       "$\\displaystyle \\mathrm{True}$"
      ],
      "text/plain": [
       "True"
      ]
     },
     "metadata": {},
     "output_type": "display_data"
    },
    {
     "data": {
      "text/html": [
       "<html>\\(\\displaystyle \\left(\\begin{array}{rr|rr}\n",
       "a & b & 0 & 0 \\\\\n",
       "c & d & 0 & 0 \\\\\n",
       "\\hline\n",
       " 0 & 0 & a & b \\\\\n",
       "0 & 0 & c & d\n",
       "\\end{array}\\right)\\)</html>"
      ],
      "text/latex": [
       "$\\displaystyle \\left(\\begin{array}{rr|rr}\n",
       "a & b & 0 & 0 \\\\\n",
       "c & d & 0 & 0 \\\\\n",
       "\\hline\n",
       " 0 & 0 & a & b \\\\\n",
       "0 & 0 & c & d\n",
       "\\end{array}\\right)$"
      ],
      "text/plain": [
       "[a b|0 0]\n",
       "[c d|0 0]\n",
       "[---+---]\n",
       "[0 0|a b]\n",
       "[0 0|c d]"
      ]
     },
     "metadata": {},
     "output_type": "display_data"
    },
    {
     "data": {
      "text/html": [
       "<html>\\(\\displaystyle \\mathrm{True}\\)</html>"
      ],
      "text/latex": [
       "$\\displaystyle \\mathrm{True}$"
      ],
      "text/plain": [
       "True"
      ]
     },
     "metadata": {},
     "output_type": "display_data"
    }
   ],
   "source": [
    "# Define the 2x2 matrix A with arbitrary elements\n",
    "A = Matrix([[var('a'), var('b')], [var('c'), var('d')]])\n",
    "\n",
    "\n",
    "# Calculate A1 = A ⊗ I\n",
    "A1 = A.tensor_product(matrix.identity(2))\n",
    "\n",
    "# Calculate A0 = I ⊗ A\n",
    "A0 = matrix.identity(2).tensor_product(A)\n",
    "\n",
    "# Define the SWAP matrix S10\n",
    "S10 = Matrix([[1, 0, 0, 0], [0, 0, 1, 0], [0, 1, 0, 0], [0, 0, 0, 1]])\n",
    "\n",
    "# Verify the SWAP relations\n",
    "SWAP_A1_A0 = S10 * A0 * S10\n",
    "SWAP_A0_A1 = S10 * A1 * S10\n",
    "\n",
    "# print(\"A1 = A ⊗ I:\")\n",
    "show(A1)\n",
    "\n",
    "# show(\"\\nSWAP relation A1 = S10 A0 S10:\")\n",
    "show(SWAP_A1_A0 == A1)\n",
    "# show(\"\\nA0 = I ⊗ A:\")\n",
    "show(A0)\n",
    "\n",
    "# show(\"\\nSWAP relation A0 = S10 A1 S10:\")\n",
    "show(SWAP_A0_A1 == A0)\n"
   ]
  },
  {
   "cell_type": "markdown",
   "id": "012a9f5e-11c5-46fa-9c7b-37d68ec46bf9",
   "metadata": {},
   "source": [
    "____________________________________________________________________________________________\n",
    "____________________________________________________________________________________________\n",
    "\n",
    "## 3. Hadamard and some useful identities\n",
    "The Hadamard matrix is defined as\n",
    "\n",
    "$$\n",
    "H=\\frac{1}{\\sqrt{2}}(X+Z)=\\frac{1}{\\sqrt{2}}\\left(\\begin{array}{cc}\n",
    "1 & 1  \\tag{10}\\\\\n",
    "1 & -1\n",
    "\\end{array}\\right)\n",
    "$$\n",
    "\n",
    "since $X=\\sigma^{x}$ and $Z=\\sigma^{z}$. Use sage to verify the following useful identities: \n",
    "\n",
    "(a)\n",
    "\n",
    "$$\n",
    "H^{2}=\\mathbb{I}=\\left(\\begin{array}{ll}\n",
    "1 & 0 \\\\\n",
    "0 & 1\n",
    "\\end{array}\\right)\n",
    "$$\n",
    "\n",
    "(b)\n",
    "\n",
    "$$\n",
    "H X H=Z\n",
    "$$\n",
    "\n",
    "(c)\n",
    "\n",
    "$$\n",
    "H Z H=X\n",
    "$$\n",
    "\n",
    "(d)\n",
    "\n",
    "$$\n",
    "C_{10}^{X}=H_{1} H_{0} C_{01}^{X} H_{1} H_{0}\n",
    "$$\n",
    "\n",
    "(e)\n",
    "\n",
    "$$\n",
    "C^{Z}=H_{1} C_{01}^{X} H_{1}=H_{0} C_{10}^{X} H_{0},\n",
    "$$\n",
    "\n",
    "where $C^{Z}=C_{01}^{Z}=C_{10}^{Z}($ controlled $Z)$ has the matrix representation\n",
    "\n",
    "$$\n",
    "C^{Z}=\\left(\\begin{array}{cccc}\n",
    "1 & 0 & 0 & 0 \\\\\n",
    "0 & 1 & 0 & 0 \\\\\n",
    "0 & 0 & 1 & 0 \\\\\n",
    "0 & 0 & 0 & -1\n",
    "\\end{array}\\right)\n",
    "$$\n"
   ]
  },
  {
   "cell_type": "code",
   "execution_count": 2,
   "id": "ef180eb4-1ca8-4b02-8392-e8f682258263",
   "metadata": {},
   "outputs": [],
   "source": [
    "# Define the Pauli matrices\n",
    "sx = matrix([[0, 1], [1, 0]])\n",
    "sy = matrix([[0, -1*I], [1*I, 0]])\n",
    "sz = matrix([[1, 0], [0, -1]])\n",
    "Hard= (1/sqrt(2))*matrix([[1,1],[1,-1]])"
   ]
  },
  {
   "cell_type": "code",
   "execution_count": 3,
   "id": "1e5933f5-586d-40a8-a00d-7e8b3afd3c62",
   "metadata": {},
   "outputs": [
    {
     "data": {
      "text/html": [
       "<html>\\(\\displaystyle \\left(\\begin{array}{rr}\n",
       "0 & 1 \\\\\n",
       "1 & 0\n",
       "\\end{array}\\right)\\)</html>"
      ],
      "text/latex": [
       "$\\displaystyle \\left(\\begin{array}{rr}\n",
       "0 & 1 \\\\\n",
       "1 & 0\n",
       "\\end{array}\\right)$"
      ],
      "text/plain": [
       "[0 1]\n",
       "[1 0]"
      ]
     },
     "metadata": {},
     "output_type": "display_data"
    },
    {
     "data": {
      "text/html": [
       "<html>\\(\\displaystyle \\left(\\begin{array}{rr}\n",
       "0 & -i \\\\\n",
       "i & 0\n",
       "\\end{array}\\right)\\)</html>"
      ],
      "text/latex": [
       "$\\displaystyle \\left(\\begin{array}{rr}\n",
       "0 & -i \\\\\n",
       "i & 0\n",
       "\\end{array}\\right)$"
      ],
      "text/plain": [
       "[ 0 -I]\n",
       "[ I  0]"
      ]
     },
     "metadata": {},
     "output_type": "display_data"
    },
    {
     "data": {
      "text/html": [
       "<html>\\(\\displaystyle \\left(\\begin{array}{rr}\n",
       "1 & 0 \\\\\n",
       "0 & -1\n",
       "\\end{array}\\right)\\)</html>"
      ],
      "text/latex": [
       "$\\displaystyle \\left(\\begin{array}{rr}\n",
       "1 & 0 \\\\\n",
       "0 & -1\n",
       "\\end{array}\\right)$"
      ],
      "text/plain": [
       "[ 1  0]\n",
       "[ 0 -1]"
      ]
     },
     "metadata": {},
     "output_type": "display_data"
    },
    {
     "data": {
      "text/html": [
       "<html>\\(\\displaystyle \\left(\\begin{array}{rr}\n",
       "\\frac{1}{2} \\, \\sqrt{2} & \\frac{1}{2} \\, \\sqrt{2} \\\\\n",
       "\\frac{1}{2} \\, \\sqrt{2} & -\\frac{1}{2} \\, \\sqrt{2}\n",
       "\\end{array}\\right)\\)</html>"
      ],
      "text/latex": [
       "$\\displaystyle \\left(\\begin{array}{rr}\n",
       "\\frac{1}{2} \\, \\sqrt{2} & \\frac{1}{2} \\, \\sqrt{2} \\\\\n",
       "\\frac{1}{2} \\, \\sqrt{2} & -\\frac{1}{2} \\, \\sqrt{2}\n",
       "\\end{array}\\right)$"
      ],
      "text/plain": [
       "[ 1/2*sqrt(2)  1/2*sqrt(2)]\n",
       "[ 1/2*sqrt(2) -1/2*sqrt(2)]"
      ]
     },
     "metadata": {},
     "output_type": "display_data"
    }
   ],
   "source": [
    "show(sx), show(sy), show(sz), show(Hard);"
   ]
  },
  {
   "cell_type": "markdown",
   "id": "d81f5895-f123-44f3-8a06-5d34fcadd6c8",
   "metadata": {},
   "source": [
    "_______________________________________________________"
   ]
  },
  {
   "cell_type": "markdown",
   "id": "6b5d6df6-a849-4f73-b1cd-59eb7c2a6da1",
   "metadata": {},
   "source": [
    "(a)\n",
    "\n",
    "$$\n",
    "H^{2}=\\mathbb{I}=\\left(\\begin{array}{ll}\n",
    "1 & 0 \\\\\n",
    "0 & 1\n",
    "\\end{array}\\right)\n",
    "$$\n",
    "_______________________________________________"
   ]
  },
  {
   "cell_type": "code",
   "execution_count": 7,
   "id": "3c0a3dd9-3ac4-4d91-890c-c18bc72b7ed3",
   "metadata": {},
   "outputs": [
    {
     "name": "stdout",
     "output_type": "stream",
     "text": [
      "True\n"
     ]
    }
   ],
   "source": [
    "hard_square = Hard**2\n",
    "print(hard_square==matrix.identity(2))"
   ]
  },
  {
   "cell_type": "markdown",
   "id": "2d787217-96c6-484e-b482-6e2cb573eeae",
   "metadata": {},
   "source": [
    "___________________________________________"
   ]
  },
  {
   "cell_type": "markdown",
   "id": "b9cd5b20-407a-416c-9357-7ea910779a3e",
   "metadata": {},
   "source": [
    "(b)\n",
    "\n",
    "$$\n",
    "H X H=Z\n",
    "$$\n"
   ]
  },
  {
   "cell_type": "code",
   "execution_count": 11,
   "id": "c0d8e83a-2b53-4e99-af12-9b7636add512",
   "metadata": {},
   "outputs": [
    {
     "name": "stdout",
     "output_type": "stream",
     "text": [
      "True\n"
     ]
    }
   ],
   "source": [
    "HXH = Hard*sx*Hard\n",
    "print(HXH==sz)"
   ]
  },
  {
   "cell_type": "markdown",
   "id": "64eb4333-7cdd-4246-b599-8cdd8f26f902",
   "metadata": {},
   "source": [
    "_______________________________________________"
   ]
  },
  {
   "cell_type": "markdown",
   "id": "31bd08b6-9689-4823-ad8a-b383e46f7357",
   "metadata": {},
   "source": [
    "(c)\n",
    "\n",
    "$$\n",
    "H Z H=X\n",
    "$$"
   ]
  },
  {
   "cell_type": "code",
   "execution_count": 12,
   "id": "100a8429-060d-494d-880c-649c956345a7",
   "metadata": {},
   "outputs": [
    {
     "name": "stdout",
     "output_type": "stream",
     "text": [
      "True\n"
     ]
    }
   ],
   "source": [
    "HZH = Hard*sz*Hard\n",
    "print(HZH == sx)"
   ]
  },
  {
   "cell_type": "markdown",
   "id": "f2fa2395-dcda-409c-a4db-ce091d56cf72",
   "metadata": {},
   "source": [
    "____________________________________________________________________"
   ]
  },
  {
   "cell_type": "markdown",
   "id": "1f97fe2e-55ae-45ee-aecf-55d64c9be5d1",
   "metadata": {},
   "source": [
    "\n",
    "(d)\n",
    "\n",
    "$$\n",
    "C_{10}^{X}=H_{1} H_{0} C_{01}^{X} H_{1} H_{0}\n",
    "$$"
   ]
  },
  {
   "cell_type": "code",
   "execution_count": null,
   "id": "0105b29f-b56b-4b76-bf33-d1ca59d1f114",
   "metadata": {},
   "outputs": [],
   "source": []
  }
 ],
 "metadata": {
  "kernelspec": {
   "display_name": "SageMath 10.4",
   "language": "sage",
   "name": "sagemath"
  },
  "language_info": {
   "codemirror_mode": {
    "name": "ipython",
    "version": 3
   },
   "file_extension": ".py",
   "mimetype": "text/x-python",
   "name": "python",
   "nbconvert_exporter": "python",
   "pygments_lexer": "ipython3",
   "version": "3.11.2"
  }
 },
 "nbformat": 4,
 "nbformat_minor": 5
}
