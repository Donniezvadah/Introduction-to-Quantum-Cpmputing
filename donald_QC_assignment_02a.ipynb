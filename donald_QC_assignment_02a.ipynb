{
 "cells": [
  {
   "cell_type": "markdown",
   "id": "1661248a-8df4-42ec-9007-d12f8d07f36b",
   "metadata": {},
   "source": [
    "\n",
    "# Student:  **Donald Zvada**\n",
    "_________________________________\n",
    "_________________________________\n",
    "\n",
    "## Course: Quantum Computing\n",
    "\n",
    "## Assignment: 2\n",
    "___________________________________________________________________________________________"
   ]
  },
  {
   "cell_type": "markdown",
   "id": "71260b54-8c5d-4115-9bb0-b49747b4a1d0",
   "metadata": {},
   "source": [
    "# Question 1 \n",
    "\n",
    "For any 1-qubit operator $A$ (i.e., any $2 \\times 2$ matrix $A$ ), we have\n",
    "\n",
    "$$\n",
    "A_{1}=A \\otimes \\mathbb{I}, \\quad A_{0}=\\mathbb{I} \\otimes A,\n",
    "$$\n",
    "\n",
    "where $\\mathbb{I}$ is the $2 \\times 2$ identity matrix. They are related by the SWAP (permutation) matrix\n",
    "\n",
    "\n",
    "\\begin{equation*}\n",
    "A_{1}=S_{10} A_{0} S_{10}, \\quad A_{0}=S_{10} A_{1} S_{10} \\tag{1}\n",
    "\\end{equation*}"
   ]
  },
  {
   "cell_type": "code",
   "execution_count": 1,
   "id": "c9831929-9ff2-4dd7-80b8-402601ceddce",
   "metadata": {},
   "outputs": [
    {
     "data": {
      "text/html": [
       "<html>\\(\\displaystyle \\verb|A1=| \\left(\\begin{array}{rr|rr}\n",
       "a_{11} & 0 & a_{12} & 0 \\\\\n",
       "0 & a_{11} & 0 & a_{12} \\\\\n",
       "\\hline\n",
       " a_{21} & 0 & a_{22} & 0 \\\\\n",
       "0 & a_{21} & 0 & a_{22}\n",
       "\\end{array}\\right) \\verb|\t|\\verb| |\\verb|\t|\\verb| |\\verb|\t|\\verb| |\\verb|\t|\\verb| |\\verb|SWAP_A1_A0|\\verb| |\\verb|==|\\verb| |\\verb|A1|\\verb| |\\verb|is|\\verb| |\\verb|\t| \\mathrm{True}\\)</html>"
      ],
      "text/latex": [
       "$\\displaystyle \\verb|A1=| \\left(\\begin{array}{rr|rr}\n",
       "a_{11} & 0 & a_{12} & 0 \\\\\n",
       "0 & a_{11} & 0 & a_{12} \\\\\n",
       "\\hline\n",
       " a_{21} & 0 & a_{22} & 0 \\\\\n",
       "0 & a_{21} & 0 & a_{22}\n",
       "\\end{array}\\right) \\verb|\t|\\verb| |\\verb|\t|\\verb| |\\verb|\t|\\verb| |\\verb|\t|\\verb| |\\verb|SWAP_A1_A0|\\verb| |\\verb|==|\\verb| |\\verb|A1|\\verb| |\\verb|is|\\verb| |\\verb|\t| \\mathrm{True}$"
      ],
      "text/plain": [
       "'A1= ' [a11   0|a12   0]\n",
       "[  0 a11|  0 a12]\n",
       "[-------+-------]\n",
       "[a21   0|a22   0]\n",
       "[  0 a21|  0 a22] '\\t \\t \\t \\t SWAP_A1_A0 == A1 is \\t' True"
      ]
     },
     "metadata": {},
     "output_type": "display_data"
    },
    {
     "name": "stdout",
     "output_type": "stream",
     "text": [
      "_________________________________________________________________\n",
      "_________________________________________________________________\n"
     ]
    },
    {
     "data": {
      "text/html": [
       "<html>\\(\\displaystyle \\verb|A0=| \\left(\\begin{array}{rr|rr}\n",
       "a_{11} & a_{12} & 0 & 0 \\\\\n",
       "a_{21} & a_{22} & 0 & 0 \\\\\n",
       "\\hline\n",
       " 0 & 0 & a_{11} & a_{12} \\\\\n",
       "0 & 0 & a_{21} & a_{22}\n",
       "\\end{array}\\right) \\verb|\t|\\verb| |\\verb|\t|\\verb| |\\verb|\t|\\verb| |\\verb|\t|\\verb| |\\verb|SWAP_A0_A1|\\verb| |\\verb|==|\\verb| |\\verb|A0|\\verb| |\\verb|is|\\verb| |\\verb|\t| \\mathrm{True}\\)</html>"
      ],
      "text/latex": [
       "$\\displaystyle \\verb|A0=| \\left(\\begin{array}{rr|rr}\n",
       "a_{11} & a_{12} & 0 & 0 \\\\\n",
       "a_{21} & a_{22} & 0 & 0 \\\\\n",
       "\\hline\n",
       " 0 & 0 & a_{11} & a_{12} \\\\\n",
       "0 & 0 & a_{21} & a_{22}\n",
       "\\end{array}\\right) \\verb|\t|\\verb| |\\verb|\t|\\verb| |\\verb|\t|\\verb| |\\verb|\t|\\verb| |\\verb|SWAP_A0_A1|\\verb| |\\verb|==|\\verb| |\\verb|A0|\\verb| |\\verb|is|\\verb| |\\verb|\t| \\mathrm{True}$"
      ],
      "text/plain": [
       "'A0= ' [a11 a12|  0   0]\n",
       "[a21 a22|  0   0]\n",
       "[-------+-------]\n",
       "[  0   0|a11 a12]\n",
       "[  0   0|a21 a22] '\\t \\t \\t \\t SWAP_A0_A1 == A0 is \\t' True"
      ]
     },
     "metadata": {},
     "output_type": "display_data"
    },
    {
     "name": "stdout",
     "output_type": "stream",
     "text": [
      "_________________________________________________________________\n"
     ]
    }
   ],
   "source": [
    "# Define the variables\n",
    "var('a11 a12 a21 a22')\n",
    "# Define the 2x2 matrix A with arbitrary elements\n",
    "A = matrix([[a11, a12], [a21, a22]])\n",
    "\n",
    "\n",
    "# Calculate A1 = A ⊗ I\n",
    "A1 = A.tensor_product(matrix.identity(2))\n",
    "\n",
    "# Calculate A0 = I ⊗ A\n",
    "A0 = matrix.identity(2).tensor_product(A)\n",
    "\n",
    "# Define the SWAP matrix S\n",
    "S = Matrix([[1, 0, 0, 0], [0, 0, 1, 0], [0, 1, 0, 0], [0, 0, 0, 1]])\n",
    "\n",
    "# Verify the SWAP relations\n",
    "SWAP_A1_A0 = S * A0 * S\n",
    "SWAP_A0_A1 = S * A1 * S\n",
    "\n",
    "# print(\"A1 = A ⊗ I:\")\n",
    "show(\"A1= \" , A1, \"\\t \\t \\t \\t SWAP_A1_A0 == A1 is \\t\", SWAP_A1_A0 == A1)\n",
    "print(\"_________________________________________________________________\")\n",
    "print(\"_________________________________________________________________\")\n",
    "# show(\"\\nA0 = I ⊗ A:\")\n",
    "show(\"A0= \", A0, \"\\t \\t \\t \\t SWAP_A0_A1 == A0 is \\t\" , SWAP_A0_A1 == A0)\n",
    "print(\"_________________________________________________________________\")\n",
    "\n",
    "# show(\"\\nSWAP relation A0 = S A1 S:\")\n",
    "show(  )\n"
   ]
  },
  {
   "cell_type": "markdown",
   "id": "3a228e9d-2801-4d2a-97c8-336ffccea020",
   "metadata": {},
   "source": [
    "## Identities from 1 are true for all the case and a given abitrary Matrix A"
   ]
  },
  {
   "cell_type": "code",
   "execution_count": null,
   "id": "4980bc90-656b-4fb7-837c-0bc9f4d208fa",
   "metadata": {},
   "outputs": [],
   "source": []
  },
  {
   "cell_type": "markdown",
   "id": "e3d9fc6d-6899-4d10-89be-9082e19e980e",
   "metadata": {},
   "source": [
    "# Question 2 \n",
    "\n",
    "In class, it was claimed that\n",
    "\n",
    "\n",
    "$$\n",
    "S_{10}=C_{10}^{X} C_{01}^{X} C_{10}^{X} . \\tag{7}\n",
    "$$"
   ]
  },
  {
   "cell_type": "code",
   "execution_count": 2,
   "id": "8af44ffc-f626-4969-b6eb-efe68a2845b7",
   "metadata": {},
   "outputs": [
    {
     "data": {
      "text/html": [
       "<html>\\(\\displaystyle \\verb|Cx_10*Cx_01*Cx_10=|\\verb| |\\verb|\t| \\left(\\begin{array}{rrrr}\n",
       "1 & 0 & 0 & 0 \\\\\n",
       "0 & 0 & 1 & 0 \\\\\n",
       "0 & 1 & 0 & 0 \\\\\n",
       "0 & 0 & 0 & 1\n",
       "\\end{array}\\right) \\verb|\t|\\verb| |\\verb|\t|\\verb| |\\verb|\t|\\verb| |\\verb|\t|\\verb| |\\verb|\t|\\verb| |\\verb|S10=|\\verb| |\\verb|\t| \\left(\\begin{array}{rrrr}\n",
       "1 & 0 & 0 & 0 \\\\\n",
       "0 & 0 & 1 & 0 \\\\\n",
       "0 & 1 & 0 & 0 \\\\\n",
       "0 & 0 & 0 & 1\n",
       "\\end{array}\\right) \\verb|\t|\\verb| |\\verb|\t|\\verb| |\\verb|\t|\\verb| |\\verb|\t|\\verb| |\\verb|RHS|\\verb| |\\verb|=|\\verb| |\\verb|LHS|\\verb| |\\verb|is|\\verb| |\\verb|\t| \\mathrm{True}\\)</html>"
      ],
      "text/latex": [
       "$\\displaystyle \\verb|Cx_10*Cx_01*Cx_10=|\\verb| |\\verb|\t| \\left(\\begin{array}{rrrr}\n",
       "1 & 0 & 0 & 0 \\\\\n",
       "0 & 0 & 1 & 0 \\\\\n",
       "0 & 1 & 0 & 0 \\\\\n",
       "0 & 0 & 0 & 1\n",
       "\\end{array}\\right) \\verb|\t|\\verb| |\\verb|\t|\\verb| |\\verb|\t|\\verb| |\\verb|\t|\\verb| |\\verb|\t|\\verb| |\\verb|S10=|\\verb| |\\verb|\t| \\left(\\begin{array}{rrrr}\n",
       "1 & 0 & 0 & 0 \\\\\n",
       "0 & 0 & 1 & 0 \\\\\n",
       "0 & 1 & 0 & 0 \\\\\n",
       "0 & 0 & 0 & 1\n",
       "\\end{array}\\right) \\verb|\t|\\verb| |\\verb|\t|\\verb| |\\verb|\t|\\verb| |\\verb|\t|\\verb| |\\verb|RHS|\\verb| |\\verb|=|\\verb| |\\verb|LHS|\\verb| |\\verb|is|\\verb| |\\verb|\t| \\mathrm{True}$"
      ],
      "text/plain": [
       "'Cx_10*Cx_01*Cx_10= \\t' [1 0 0 0]\n",
       "[0 0 1 0]\n",
       "[0 1 0 0]\n",
       "[0 0 0 1] '\\t \\t \\t \\t \\t S10= \\t' [1 0 0 0]\n",
       "[0 0 1 0]\n",
       "[0 1 0 0]\n",
       "[0 0 0 1] '\\t \\t \\t \\t RHS = LHS is \\t ' True"
      ]
     },
     "metadata": {},
     "output_type": "display_data"
    }
   ],
   "source": [
    "# Matrices C creation \n",
    "\n",
    "Cx_10 = matrix([[1,0,0,0],[0,1,0,0], [0,0,0,1], [0,0,1,0]])  # Matrices C10 creation \n",
    "Cx_01 =  matrix([[1,0,0,0],[0,0,0,1], [0,0,1,0], [0,1,0,0]])# Matrices C01 creation \n",
    "\n",
    "lhs = Cx_10*Cx_01*Cx_10 #c𝐶𝑋10𝐶𝑋01𝐶𝑋10\n",
    "rhs = S #𝑆10\n",
    "\n",
    "show( \"Cx_10*Cx_01*Cx_10= \\t\" , lhs, \"\\t \\t \\t \\t \\t S10= \\t\" , rhs , \"\\t \\t \\t \\t RHS = LHS is \\t \", rhs == lhs  )"
   ]
  },
  {
   "cell_type": "code",
   "execution_count": null,
   "id": "c02b5a07-6dce-47cc-a217-ee3e1cbb2565",
   "metadata": {},
   "outputs": [],
   "source": []
  },
  {
   "cell_type": "markdown",
   "id": "fb06bd98-ebdd-4c97-975a-48d4d92ebc26",
   "metadata": {},
   "source": [
    "(c) Verify that the SWAP operator can be used to transform $C_{10}^{X}$ to $C_{01}^{X}$, and viceversa,\n",
    "\n",
    "\n",
    "$$\n",
    "S_{10} C_{10}^{X} S_{10}=C_{01}^{X}, \\quad S_{10} C_{01}^{X} S_{10}=C_{10}^{X} \\tag{9}\n",
    "$$\n"
   ]
  },
  {
   "cell_type": "markdown",
   "id": "be74e3fa-d26a-4f5f-9da1-4342b7da5b8c",
   "metadata": {},
   "source": [
    "### Part 1"
   ]
  },
  {
   "cell_type": "code",
   "execution_count": 3,
   "id": "25e9ae0a-148c-4b5c-88ff-b3334c390f6f",
   "metadata": {},
   "outputs": [
    {
     "data": {
      "text/html": [
       "<html>\\(\\displaystyle \\verb|S10*Cx_10*S10=|\\verb| |\\verb|\t| \\left(\\begin{array}{rrrr}\n",
       "1 & 0 & 0 & 0 \\\\\n",
       "0 & 0 & 0 & 1 \\\\\n",
       "0 & 0 & 1 & 0 \\\\\n",
       "0 & 1 & 0 & 0\n",
       "\\end{array}\\right) \\verb|\t|\\verb| |\\verb|\t|\\verb| |\\verb|\t|\\verb| |\\verb|\t|\\verb| |\\verb|\t|\\verb| |\\verb|Cx_01=|\\verb| |\\verb|\t| \\left(\\begin{array}{rrrr}\n",
       "1 & 0 & 0 & 0 \\\\\n",
       "0 & 0 & 0 & 1 \\\\\n",
       "0 & 0 & 1 & 0 \\\\\n",
       "0 & 1 & 0 & 0\n",
       "\\end{array}\\right) \\verb|\t|\\verb| |\\verb|\t|\\verb| |\\verb|\t|\\verb| |\\verb|\t|\\verb| |\\verb|RHS|\\verb| |\\verb|=|\\verb| |\\verb|LHS|\\verb| |\\verb|is|\\verb| |\\verb|\t| \\mathrm{True}\\)</html>"
      ],
      "text/latex": [
       "$\\displaystyle \\verb|S10*Cx_10*S10=|\\verb| |\\verb|\t| \\left(\\begin{array}{rrrr}\n",
       "1 & 0 & 0 & 0 \\\\\n",
       "0 & 0 & 0 & 1 \\\\\n",
       "0 & 0 & 1 & 0 \\\\\n",
       "0 & 1 & 0 & 0\n",
       "\\end{array}\\right) \\verb|\t|\\verb| |\\verb|\t|\\verb| |\\verb|\t|\\verb| |\\verb|\t|\\verb| |\\verb|\t|\\verb| |\\verb|Cx_01=|\\verb| |\\verb|\t| \\left(\\begin{array}{rrrr}\n",
       "1 & 0 & 0 & 0 \\\\\n",
       "0 & 0 & 0 & 1 \\\\\n",
       "0 & 0 & 1 & 0 \\\\\n",
       "0 & 1 & 0 & 0\n",
       "\\end{array}\\right) \\verb|\t|\\verb| |\\verb|\t|\\verb| |\\verb|\t|\\verb| |\\verb|\t|\\verb| |\\verb|RHS|\\verb| |\\verb|=|\\verb| |\\verb|LHS|\\verb| |\\verb|is|\\verb| |\\verb|\t| \\mathrm{True}$"
      ],
      "text/plain": [
       "'S10*Cx_10*S10= \\t' [1 0 0 0]\n",
       "[0 0 0 1]\n",
       "[0 0 1 0]\n",
       "[0 1 0 0] '\\t \\t \\t \\t \\t Cx_01= \\t' [1 0 0 0]\n",
       "[0 0 0 1]\n",
       "[0 0 1 0]\n",
       "[0 1 0 0] '\\t \\t \\t \\t RHS = LHS is \\t ' True"
      ]
     },
     "metadata": {},
     "output_type": "display_data"
    }
   ],
   "source": [
    "lhs = Cx_01 #𝐶𝑋01\n",
    "rhs = S*Cx_10*S #𝑆10𝐶𝑋10𝑆10\n",
    "\n",
    "show( \"S10*Cx_10*S10= \\t\" , rhs, \"\\t \\t \\t \\t \\t Cx_01= \\t\" , lhs , \"\\t \\t \\t \\t RHS = LHS is \\t \", rhs == lhs  )"
   ]
  },
  {
   "cell_type": "markdown",
   "id": "6e455179-af26-4090-a795-e0d22c3ad169",
   "metadata": {},
   "source": [
    "### Part 2"
   ]
  },
  {
   "cell_type": "code",
   "execution_count": 4,
   "id": "8ef779c1-74e0-4784-9d90-5b8a46234143",
   "metadata": {},
   "outputs": [
    {
     "data": {
      "text/html": [
       "<html>\\(\\displaystyle \\verb|S10*Cx_01*S10=|\\verb| |\\verb|\t| \\left(\\begin{array}{rrrr}\n",
       "1 & 0 & 0 & 0 \\\\\n",
       "0 & 1 & 0 & 0 \\\\\n",
       "0 & 0 & 0 & 1 \\\\\n",
       "0 & 0 & 1 & 0\n",
       "\\end{array}\\right) \\verb|\t|\\verb| |\\verb|\t|\\verb| |\\verb|\t|\\verb| |\\verb|\t|\\verb| |\\verb|\t|\\verb| |\\verb|Cx_10=|\\verb| |\\verb|\t| \\left(\\begin{array}{rrrr}\n",
       "1 & 0 & 0 & 0 \\\\\n",
       "0 & 1 & 0 & 0 \\\\\n",
       "0 & 0 & 0 & 1 \\\\\n",
       "0 & 0 & 1 & 0\n",
       "\\end{array}\\right) \\verb|\t|\\verb| |\\verb|\t|\\verb| |\\verb|\t|\\verb| |\\verb|\t|\\verb| |\\verb|RHS|\\verb| |\\verb|=|\\verb| |\\verb|LHS|\\verb| |\\verb|is|\\verb| |\\verb|\t| \\mathrm{True}\\)</html>"
      ],
      "text/latex": [
       "$\\displaystyle \\verb|S10*Cx_01*S10=|\\verb| |\\verb|\t| \\left(\\begin{array}{rrrr}\n",
       "1 & 0 & 0 & 0 \\\\\n",
       "0 & 1 & 0 & 0 \\\\\n",
       "0 & 0 & 0 & 1 \\\\\n",
       "0 & 0 & 1 & 0\n",
       "\\end{array}\\right) \\verb|\t|\\verb| |\\verb|\t|\\verb| |\\verb|\t|\\verb| |\\verb|\t|\\verb| |\\verb|\t|\\verb| |\\verb|Cx_10=|\\verb| |\\verb|\t| \\left(\\begin{array}{rrrr}\n",
       "1 & 0 & 0 & 0 \\\\\n",
       "0 & 1 & 0 & 0 \\\\\n",
       "0 & 0 & 0 & 1 \\\\\n",
       "0 & 0 & 1 & 0\n",
       "\\end{array}\\right) \\verb|\t|\\verb| |\\verb|\t|\\verb| |\\verb|\t|\\verb| |\\verb|\t|\\verb| |\\verb|RHS|\\verb| |\\verb|=|\\verb| |\\verb|LHS|\\verb| |\\verb|is|\\verb| |\\verb|\t| \\mathrm{True}$"
      ],
      "text/plain": [
       "'S10*Cx_01*S10= \\t' [1 0 0 0]\n",
       "[0 1 0 0]\n",
       "[0 0 0 1]\n",
       "[0 0 1 0] '\\t \\t \\t \\t \\t Cx_10= \\t' [1 0 0 0]\n",
       "[0 1 0 0]\n",
       "[0 0 0 1]\n",
       "[0 0 1 0] '\\t \\t \\t \\t RHS = LHS is \\t ' True"
      ]
     },
     "metadata": {},
     "output_type": "display_data"
    }
   ],
   "source": [
    "lhs = Cx_10 # 𝐶𝑋10\n",
    "rhs = S*Cx_01*S # 𝑆10𝐶𝑋01𝑆10\n",
    "\n",
    "show( \"S10*Cx_01*S10= \\t\" , rhs, \"\\t \\t \\t \\t \\t Cx_10= \\t\" , lhs , \"\\t \\t \\t \\t RHS = LHS is \\t \", rhs == lhs  )"
   ]
  },
  {
   "cell_type": "code",
   "execution_count": null,
   "id": "e26410fa-5826-4814-97f7-0508701250d9",
   "metadata": {},
   "outputs": [],
   "source": []
  },
  {
   "cell_type": "code",
   "execution_count": null,
   "id": "fdd355b7-8d87-4e65-835a-cbbc3528e6fe",
   "metadata": {},
   "outputs": [],
   "source": []
  },
  {
   "cell_type": "code",
   "execution_count": null,
   "id": "25e441db-cf6b-4717-896b-a5d5a33a53de",
   "metadata": {},
   "outputs": [],
   "source": []
  },
  {
   "cell_type": "markdown",
   "id": "012a9f5e-11c5-46fa-9c7b-37d68ec46bf9",
   "metadata": {},
   "source": [
    "____________________________________________________________________________________________\n",
    "____________________________________________________________________________________________\n",
    "\n",
    "## 3. Hadamard and some useful identities\n",
    "The Hadamard matrix is defined as\n",
    "\n",
    "$$\n",
    "H=\\frac{1}{\\sqrt{2}}(X+Z)=\\frac{1}{\\sqrt{2}}\\left(\\begin{array}{cc}\n",
    "1 & 1  \\tag{10}\\\\\n",
    "1 & -1\n",
    "\\end{array}\\right)\n",
    "$$\n",
    "\n",
    "since $X=\\sigma^{x}$ and $Z=\\sigma^{z}$. Use sage to verify the following useful identities: \n",
    "\n",
    "(a)\n",
    "\n",
    "$$\n",
    "H^{2}=\\mathbb{I}=\\left(\\begin{array}{ll}\n",
    "1 & 0 \\\\\n",
    "0 & 1\n",
    "\\end{array}\\right)\n",
    "$$\n",
    "\n",
    "(b)\n",
    "\n",
    "$$\n",
    "H X H=Z\n",
    "$$\n",
    "\n",
    "(c)\n",
    "\n",
    "$$\n",
    "H Z H=X\n",
    "$$\n",
    "\n",
    "(d)\n",
    "\n",
    "$$\n",
    "C_{10}^{X}=H_{1} H_{0} C_{01}^{X} H_{1} H_{0}\n",
    "$$\n",
    "\n",
    "(e)\n",
    "\n",
    "$$\n",
    "C^{Z}=H_{1} C_{01}^{X} H_{1}=H_{0} C_{10}^{X} H_{0},\n",
    "$$\n",
    "\n",
    "where $C^{Z}=C_{01}^{Z}=C_{10}^{Z}($ controlled $Z)$ has the matrix representation\n",
    "\n",
    "$$\n",
    "C^{Z}=\\left(\\begin{array}{cccc}\n",
    "1 & 0 & 0 & 0 \\\\\n",
    "0 & 1 & 0 & 0 \\\\\n",
    "0 & 0 & 1 & 0 \\\\\n",
    "0 & 0 & 0 & -1\n",
    "\\end{array}\\right)\n",
    "$$\n"
   ]
  },
  {
   "cell_type": "code",
   "execution_count": 5,
   "id": "ef180eb4-1ca8-4b02-8392-e8f682258263",
   "metadata": {},
   "outputs": [],
   "source": [
    "# Define the Pauli matrices\n",
    "sx = matrix([[0, 1], [1, 0]])   #the X Pauli matrices\n",
    "sy = matrix([[0, -1*I], [1*I, 0]]) #the Y Pauli matrices\n",
    "sz = matrix([[1, 0], [0, -1]]) ##the Z Pauli matrices\n",
    "Hard= (1/sqrt(2))*matrix([[1,1],[1,-1]]) #the Hadamand Pauli matrices"
   ]
  },
  {
   "cell_type": "code",
   "execution_count": 6,
   "id": "1e5933f5-586d-40a8-a00d-7e8b3afd3c62",
   "metadata": {},
   "outputs": [
    {
     "data": {
      "text/html": [
       "<html>\\(\\displaystyle \\verb|X=|\\verb| |\\verb|\t|\\verb| |\\verb|\t| \\left(\\begin{array}{rr}\n",
       "0 & 1 \\\\\n",
       "1 & 0\n",
       "\\end{array}\\right) \\verb|\t|\\verb| |\\verb|\t| \\verb|Y=\t|\\verb| |\\verb|\t| \\left(\\begin{array}{rr}\n",
       "0 & -i \\\\\n",
       "i & 0\n",
       "\\end{array}\\right) \\verb|Z=|\\verb| |\\verb|\t|\\verb| |\\verb|\t| \\left(\\begin{array}{rr}\n",
       "1 & 0 \\\\\n",
       "0 & -1\n",
       "\\end{array}\\right) \\verb|Hadamand=\t|\\verb| |\\verb|\t| \\left(\\begin{array}{rr}\n",
       "\\frac{1}{2} \\, \\sqrt{2} & \\frac{1}{2} \\, \\sqrt{2} \\\\\n",
       "\\frac{1}{2} \\, \\sqrt{2} & -\\frac{1}{2} \\, \\sqrt{2}\n",
       "\\end{array}\\right)\\)</html>"
      ],
      "text/latex": [
       "$\\displaystyle \\verb|X=|\\verb| |\\verb|\t|\\verb| |\\verb|\t| \\left(\\begin{array}{rr}\n",
       "0 & 1 \\\\\n",
       "1 & 0\n",
       "\\end{array}\\right) \\verb|\t|\\verb| |\\verb|\t| \\verb|Y=\t|\\verb| |\\verb|\t| \\left(\\begin{array}{rr}\n",
       "0 & -i \\\\\n",
       "i & 0\n",
       "\\end{array}\\right) \\verb|Z=|\\verb| |\\verb|\t|\\verb| |\\verb|\t| \\left(\\begin{array}{rr}\n",
       "1 & 0 \\\\\n",
       "0 & -1\n",
       "\\end{array}\\right) \\verb|Hadamand=\t|\\verb| |\\verb|\t| \\left(\\begin{array}{rr}\n",
       "\\frac{1}{2} \\, \\sqrt{2} & \\frac{1}{2} \\, \\sqrt{2} \\\\\n",
       "\\frac{1}{2} \\, \\sqrt{2} & -\\frac{1}{2} \\, \\sqrt{2}\n",
       "\\end{array}\\right)$"
      ],
      "text/plain": [
       "'X= \\t \\t ' [0 1]\n",
       "[1 0] '\\t \\t  ' 'Y=\\t \\t  ' [ 0 -I]\n",
       "[ I  0] 'Z= \\t \\t ' [ 1  0]\n",
       "[ 0 -1] 'Hadamand=\\t \\t  ' [ 1/2*sqrt(2)  1/2*sqrt(2)]\n",
       "[ 1/2*sqrt(2) -1/2*sqrt(2)]"
      ]
     },
     "metadata": {},
     "output_type": "display_data"
    }
   ],
   "source": [
    "show(\"X= \\t \\t \",sx  , \"\\t \\t  \", \"Y=\\t \\t  \" , sy , \"Z= \\t \\t \", sz, \"Hadamand=\\t \\t  \", Hard)"
   ]
  },
  {
   "cell_type": "markdown",
   "id": "d81f5895-f123-44f3-8a06-5d34fcadd6c8",
   "metadata": {},
   "source": [
    "_______________________________________________________"
   ]
  },
  {
   "cell_type": "markdown",
   "id": "6b5d6df6-a849-4f73-b1cd-59eb7c2a6da1",
   "metadata": {},
   "source": [
    "(a)\n",
    "\n",
    "$$\n",
    "H^{2}=\\mathbb{I}=\\left(\\begin{array}{ll}\n",
    "1 & 0 \\\\\n",
    "0 & 1\n",
    "\\end{array}\\right)\n",
    "$$\n",
    "_______________________________________________"
   ]
  },
  {
   "cell_type": "code",
   "execution_count": 7,
   "id": "3c0a3dd9-3ac4-4d91-890c-c18bc72b7ed3",
   "metadata": {},
   "outputs": [
    {
     "data": {
      "text/html": [
       "<html>\\(\\displaystyle \\verb|Hadamand**2=| \\left(\\begin{array}{rr}\n",
       "1 & 0 \\\\\n",
       "0 & 1\n",
       "\\end{array}\\right)\\)</html>"
      ],
      "text/latex": [
       "$\\displaystyle \\verb|Hadamand**2=| \\left(\\begin{array}{rr}\n",
       "1 & 0 \\\\\n",
       "0 & 1\n",
       "\\end{array}\\right)$"
      ],
      "text/plain": [
       "'Hadamand**2= ' [1 0]\n",
       "[0 1]"
      ]
     },
     "metadata": {},
     "output_type": "display_data"
    },
    {
     "name": "stdout",
     "output_type": "stream",
     "text": [
      "True\n"
     ]
    }
   ],
   "source": [
    "hard_square = Hard**2\n",
    "show(\"Hadamand**2= \", hard_square)\n",
    "print(hard_square==matrix.identity(2))"
   ]
  },
  {
   "cell_type": "markdown",
   "id": "2d787217-96c6-484e-b482-6e2cb573eeae",
   "metadata": {},
   "source": [
    "___________________________________________"
   ]
  },
  {
   "cell_type": "markdown",
   "id": "b9cd5b20-407a-416c-9357-7ea910779a3e",
   "metadata": {},
   "source": [
    "(b)\n",
    "\n",
    "$$\n",
    "H X H=Z\n",
    "$$\n"
   ]
  },
  {
   "cell_type": "code",
   "execution_count": 8,
   "id": "c0d8e83a-2b53-4e99-af12-9b7636add512",
   "metadata": {},
   "outputs": [
    {
     "data": {
      "text/html": [
       "<html>\\(\\displaystyle \\verb|HXH=| \\left(\\begin{array}{rr}\n",
       "1 & 0 \\\\\n",
       "0 & -1\n",
       "\\end{array}\\right) \\verb|Z=| \\left(\\begin{array}{rr}\n",
       "1 & 0 \\\\\n",
       "0 & -1\n",
       "\\end{array}\\right)\\)</html>"
      ],
      "text/latex": [
       "$\\displaystyle \\verb|HXH=| \\left(\\begin{array}{rr}\n",
       "1 & 0 \\\\\n",
       "0 & -1\n",
       "\\end{array}\\right) \\verb|Z=| \\left(\\begin{array}{rr}\n",
       "1 & 0 \\\\\n",
       "0 & -1\n",
       "\\end{array}\\right)$"
      ],
      "text/plain": [
       "'HXH= ' [ 1  0]\n",
       "[ 0 -1] 'Z= ' [ 1  0]\n",
       "[ 0 -1]"
      ]
     },
     "metadata": {},
     "output_type": "display_data"
    },
    {
     "name": "stdout",
     "output_type": "stream",
     "text": [
      "True\n"
     ]
    }
   ],
   "source": [
    "HXH = Hard*sx*Hard\n",
    "show(\"HXH= \" , HXH, \"Z= \", sz)\n",
    "print(HXH==sz)"
   ]
  },
  {
   "cell_type": "markdown",
   "id": "64eb4333-7cdd-4246-b599-8cdd8f26f902",
   "metadata": {},
   "source": [
    "_______________________________________________"
   ]
  },
  {
   "cell_type": "markdown",
   "id": "31bd08b6-9689-4823-ad8a-b383e46f7357",
   "metadata": {},
   "source": [
    "(c)\n",
    "\n",
    "$$\n",
    "H Z H=X\n",
    "$$"
   ]
  },
  {
   "cell_type": "code",
   "execution_count": 9,
   "id": "100a8429-060d-494d-880c-649c956345a7",
   "metadata": {},
   "outputs": [
    {
     "data": {
      "text/html": [
       "<html>\\(\\displaystyle \\verb|HZH=| \\left(\\begin{array}{rr}\n",
       "0 & 1 \\\\\n",
       "1 & 0\n",
       "\\end{array}\\right) \\verb|X|\\verb| |\\verb|=| \\left(\\begin{array}{rr}\n",
       "0 & 1 \\\\\n",
       "1 & 0\n",
       "\\end{array}\\right)\\)</html>"
      ],
      "text/latex": [
       "$\\displaystyle \\verb|HZH=| \\left(\\begin{array}{rr}\n",
       "0 & 1 \\\\\n",
       "1 & 0\n",
       "\\end{array}\\right) \\verb|X|\\verb| |\\verb|=| \\left(\\begin{array}{rr}\n",
       "0 & 1 \\\\\n",
       "1 & 0\n",
       "\\end{array}\\right)$"
      ],
      "text/plain": [
       "'HZH= ' [0 1]\n",
       "[1 0] 'X =' [0 1]\n",
       "[1 0]"
      ]
     },
     "metadata": {},
     "output_type": "display_data"
    },
    {
     "name": "stdout",
     "output_type": "stream",
     "text": [
      "True\n"
     ]
    }
   ],
   "source": [
    "HZH = Hard*sz*Hard\n",
    "show(\"HZH= \", HZH, \"X =\", sx)\n",
    "print(HZH == sx)"
   ]
  },
  {
   "cell_type": "markdown",
   "id": "f2fa2395-dcda-409c-a4db-ce091d56cf72",
   "metadata": {},
   "source": [
    "____________________________________________________________________"
   ]
  },
  {
   "cell_type": "markdown",
   "id": "1f97fe2e-55ae-45ee-aecf-55d64c9be5d1",
   "metadata": {},
   "source": [
    "\n",
    "(d)\n",
    "\n",
    "$$\n",
    "C_{10}^{X}=H_{1} H_{0} C_{01}^{X} H_{1} H_{0}\n",
    "$$"
   ]
  },
  {
   "cell_type": "code",
   "execution_count": 21,
   "id": "a37cfa97-3f69-44be-8232-4b6b739d64a6",
   "metadata": {
    "scrolled": true
   },
   "outputs": [
    {
     "data": {
      "text/html": [
       "<html>\\(\\displaystyle \\verb|RHS|\\verb|  |\\verb|=|\\verb| |\\verb|\t| \\left(\\begin{array}{rrrr}\n",
       "1 & 0 & 0 & 0 \\\\\n",
       "0 & 1 & 0 & 0 \\\\\n",
       "0 & 0 & 0 & 1 \\\\\n",
       "0 & 0 & 1 & 0\n",
       "\\end{array}\\right) \\verb|\t|\\verb| |\\verb|\t|\\verb| |\\verb|\t|\\verb| |\\verb|\t|\\verb| |\\verb|\t|\\verb| |\\verb|LHS=|\\verb| |\\verb|\t| \\left(\\begin{array}{rrrr}\n",
       "1 & 0 & 0 & 0 \\\\\n",
       "0 & 1 & 0 & 0 \\\\\n",
       "0 & 0 & 0 & 1 \\\\\n",
       "0 & 0 & 1 & 0\n",
       "\\end{array}\\right) \\verb|\t|\\verb| |\\verb|\t|\\verb| |\\verb|\t|\\verb| |\\verb|\t|\\verb| |\\verb|RHS|\\verb| |\\verb|=|\\verb| |\\verb|LHS|\\verb| |\\verb|is|\\verb| |\\verb|\t| \\mathrm{True}\\)</html>"
      ],
      "text/latex": [
       "$\\displaystyle \\verb|RHS|\\verb|  |\\verb|=|\\verb| |\\verb|\t| \\left(\\begin{array}{rrrr}\n",
       "1 & 0 & 0 & 0 \\\\\n",
       "0 & 1 & 0 & 0 \\\\\n",
       "0 & 0 & 0 & 1 \\\\\n",
       "0 & 0 & 1 & 0\n",
       "\\end{array}\\right) \\verb|\t|\\verb| |\\verb|\t|\\verb| |\\verb|\t|\\verb| |\\verb|\t|\\verb| |\\verb|\t|\\verb| |\\verb|LHS=|\\verb| |\\verb|\t| \\left(\\begin{array}{rrrr}\n",
       "1 & 0 & 0 & 0 \\\\\n",
       "0 & 1 & 0 & 0 \\\\\n",
       "0 & 0 & 0 & 1 \\\\\n",
       "0 & 0 & 1 & 0\n",
       "\\end{array}\\right) \\verb|\t|\\verb| |\\verb|\t|\\verb| |\\verb|\t|\\verb| |\\verb|\t|\\verb| |\\verb|RHS|\\verb| |\\verb|=|\\verb| |\\verb|LHS|\\verb| |\\verb|is|\\verb| |\\verb|\t| \\mathrm{True}$"
      ],
      "text/plain": [
       "'RHS  = \\t' [1 0 0 0]\n",
       "[0 1 0 0]\n",
       "[0 0 0 1]\n",
       "[0 0 1 0] '\\t \\t \\t \\t \\t LHS= \\t' [1 0 0 0]\n",
       "[0 1 0 0]\n",
       "[0 0 0 1]\n",
       "[0 0 1 0] '\\t \\t \\t \\t RHS = LHS is \\t ' True"
      ]
     },
     "metadata": {},
     "output_type": "display_data"
    }
   ],
   "source": [
    "lhs = (matrix.identity(2).tensor_product(Hard))* (Hard.tensor_product(matrix.identity(2)))* Cx_01*(matrix.identity(2).tensor_product(Hard))* (Hard.tensor_product(matrix.identity(2)))\n",
    "# 𝐻1𝐻0𝐶𝑋01𝐻1𝐻0 =lhs\n",
    "rhs = Cx_10\n",
    "\n",
    "\n",
    "show( \"RHS  = \\t\" , rhs, \"\\t \\t \\t \\t \\t LHS= \\t\" , lhs , \"\\t \\t \\t \\t RHS = LHS is \\t \", rhs == lhs  )"
   ]
  },
  {
   "cell_type": "code",
   "execution_count": null,
   "id": "839b539c-5e0f-4e5f-80cf-9500c5ee1d3b",
   "metadata": {},
   "outputs": [],
   "source": []
  },
  {
   "cell_type": "code",
   "execution_count": null,
   "id": "ecf9e33d-a82b-412c-818f-595c7d747549",
   "metadata": {},
   "outputs": [],
   "source": []
  },
  {
   "cell_type": "code",
   "execution_count": null,
   "id": "bb1f241a-b920-41cf-a20d-09685cf93226",
   "metadata": {},
   "outputs": [],
   "source": []
  },
  {
   "cell_type": "markdown",
   "id": "d2680edb-65b5-4cd5-b10f-dc1cdebf681a",
   "metadata": {},
   "source": [
    "# Question 4\n",
    "\n",
    "Consider the 2-qubit state\n",
    "\n",
    "\n",
    "\n",
    "$$\n",
    "|\\psi\\rangle = C_{01}^{X} H_{0}|00\\rangle .\n",
    "$$\n",
    "\n"
   ]
  },
  {
   "cell_type": "code",
   "execution_count": 11,
   "id": "65de8dea-4c6b-48c3-ab42-88f96d15252a",
   "metadata": {},
   "outputs": [
    {
     "data": {
      "text/html": [
       "<html>\\(\\displaystyle \\left(\\begin{array}{r}\n",
       "\\frac{1}{2} \\, \\sqrt{2} \\\\\n",
       "0 \\\\\n",
       "0 \\\\\n",
       "\\frac{1}{2} \\, \\sqrt{2}\n",
       "\\end{array}\\right)\\)</html>"
      ],
      "text/latex": [
       "$\\displaystyle \\left(\\begin{array}{r}\n",
       "\\frac{1}{2} \\, \\sqrt{2} \\\\\n",
       "0 \\\\\n",
       "0 \\\\\n",
       "\\frac{1}{2} \\, \\sqrt{2}\n",
       "\\end{array}\\right)$"
      ],
      "text/plain": [
       "[1/2*sqrt(2)]\n",
       "[          0]\n",
       "[          0]\n",
       "[1/2*sqrt(2)]"
      ]
     },
     "metadata": {},
     "output_type": "display_data"
    }
   ],
   "source": [
    "h_0 = matrix.identity(2).tensor_product(Hard)  #|𝜓⟩=𝐶𝑋01𝐻0|00⟩.\n",
    "state0 = matrix([1,0,0,0]) #State 00\n",
    "psi = Cx_01*h_0*transpose(state0) #Matrix multiplication\n",
    "show(psi)"
   ]
  },
  {
   "cell_type": "code",
   "execution_count": null,
   "id": "c072279b-248e-4432-b2de-f2cac6e8eb73",
   "metadata": {},
   "outputs": [],
   "source": []
  },
  {
   "cell_type": "code",
   "execution_count": null,
   "id": "752cb091-a297-4b86-b59e-5d418632745c",
   "metadata": {},
   "outputs": [],
   "source": []
  },
  {
   "cell_type": "code",
   "execution_count": null,
   "id": "4824164a-a682-4ce4-8d5e-dbb4fb566475",
   "metadata": {},
   "outputs": [],
   "source": []
  },
  {
   "cell_type": "markdown",
   "id": "74a81a20-1c5b-4287-873f-a9dc1eed31fb",
   "metadata": {},
   "source": [
    "# 5. 3-qubit operations \n",
    "(a) Use sage to verify the 3 -qubit relations (3) for an arbitrary $2 \\times 2$ matrix $A$. \n",
    "\n",
    "\n",
    "\n",
    "(b) Verify the 3-qubit identity (which we'll use in studying quantum dense coding)\n",
    "\n",
    "$$\n",
    "C_{02}^{X} C_{12}^{X} C_{01}^{X}=C_{01}^{X} C_{12}^{X}\n",
    "$$\n",
    "\n",
    "using sage. Hint: note that here\n",
    "\n",
    "$$\n",
    "\\begin{aligned}\n",
    "C_{01}^{X} & =\\mathbb{I} \\otimes C^{X}, \\\\\n",
    "C_{12}^{X} & =C^{X} \\otimes \\mathbb{I},\n",
    "\\end{aligned}\n",
    "$$\n",
    "\n",
    "where $\\mathbb{I}$ is the $2 \\times 2$ identity matrix, $C^{X}$ is the $4 \\times 4$ matrix $C_{01}^{X}$ in (8); and, as in (3),\n",
    "\n",
    "$$\n",
    "C_{02}^{X}=S_{21} C_{01}^{X} S_{21}, \\quad S_{21}=S \\otimes \\mathbb{I}\n",
    "$$\n",
    "\n",
    "where $S$ is the $4 \\times 4$ matrix in (5). Equivalently,\n",
    "\n",
    "$$\n",
    "C_{02}^{X}=S_{10} C_{12}^{X} S_{10}, \\quad S_{10}=\\mathbb{I} \\otimes S\n",
    "$$\n",
    "\n",
    "(c) Similarly, verify the 3-qubit identity (which we'll use in studying quantum teleportation)\n",
    "\n",
    "$$\n",
    "C_{12}^{X} C_{01}^{X} C_{12}^{X}=C_{02}^{X} C_{01}^{X} .\n",
    "$$\n"
   ]
  },
  {
   "cell_type": "code",
   "execution_count": null,
   "id": "d407ac7a-8652-4e29-8844-d702da0c29e2",
   "metadata": {},
   "outputs": [],
   "source": []
  },
  {
   "cell_type": "markdown",
   "id": "25f2777a-06a5-4cda-a9d3-054649d31ff9",
   "metadata": {},
   "source": [
    "## a) They are related by the SWAP matrix\n",
    "$A_{2}=S_{21} A_{1} S_{21}=S_{20} A_{0} S_{20}, \\quad A_{1}=S_{10} A_{0} S_{10}=S_{21} A_{2} S_{21}, \\quad A_{0}=S_{10} A_{1} S_{10}=S_{20} A_{2} S_{20}$,\n",
    "where now\n",
    "\n",
    "\n",
    "$$\n",
    "S_{21}=S \\otimes \\mathbb{I}, \\quad S_{10}=\\mathbb{I} \\otimes S, \\quad S_{20}=S_{10} S_{21} S_{10} \\tag{3}\n",
    "$$\n",
    "\n",
    "$$\n",
    "A_{2}=A \\otimes \\mathbb{I} \\otimes \\mathbb{I}, \\quad A_{1}=\\mathbb{I} \\otimes A \\otimes \\mathbb{I}, \\quad A_{0}=\\mathbb{I} \\otimes \\mathbb{I} \\otimes A\n",
    "$$\n"
   ]
  },
  {
   "cell_type": "code",
   "execution_count": 12,
   "id": "dbd7daa1-c12a-40b9-bf41-8a9e4cfee0e7",
   "metadata": {
    "scrolled": true
   },
   "outputs": [],
   "source": [
    "# Compute the tensor product of S with a 2x2 identity matrix, placing S in the second position\n",
    "S21 = S.tensor_product(matrix.identity(2)) \n",
    "S10 = matrix.identity(2).tensor_product(S)\n",
    "S20 = S10*S21*S10 # Multiply S10, S21, and S10 to obtain S20\n",
    "A_2 = A.tensor_product(matrix.identity(2)).tensor_product(matrix.identity(2))\n",
    "A_1 = matrix.identity(2).tensor_product(A).tensor_product(matrix.identity(2))\n",
    "A_0 = matrix.identity(2).tensor_product(matrix.identity(2)).tensor_product(A) # Compute the tensor product of two 2x2 identity matrices with A\n"
   ]
  },
  {
   "cell_type": "code",
   "execution_count": null,
   "id": "9437f988-b503-4815-9ea0-249720eb3c89",
   "metadata": {},
   "outputs": [],
   "source": [
    "# Compute the tensor product of S with a 2x2 identity matrix, placing S in the second position\n",
    "S21 = S.tensor_product(matrix.identity(2))\n",
    "\n",
    "# Compute the tensor product of a 2x2 identity matrix with S, placing S in the first position\n",
    "S10 = matrix.identity(2).tensor_product(S)\n",
    "\n",
    "# Multiply S10, S21, and S10 to obtain S20\n",
    "S20 = S10 * S21 * S10\n",
    "\n",
    "# Compute the tensor product of A with two 2x2 identity matrices, placing A in the third position\n",
    "A_2 = A.tensor_product(matrix.identity(2)).tensor_product(matrix.identity(2))\n",
    "\n",
    "# Compute the tensor product of a 2x2 identity matrix with A and another 2x2 identity matrix, placing A in the second position\n",
    "A_1 = matrix.identity(2).tensor_product(A).tensor_product(matrix.identity(2))\n",
    "\n",
    "# Compute the tensor product of two 2x2 identity matrices with A, placing A in the first position\n",
    "A_0 = matrix.identity(2).tensor_product(matrix.identity(2)).tensor_product(A)\n"
   ]
  },
  {
   "cell_type": "code",
   "execution_count": 13,
   "id": "0cdb1293-0733-4eea-b048-a960bbd61bf3",
   "metadata": {},
   "outputs": [
    {
     "data": {
      "text/html": [
       "<html>\\(\\displaystyle \\verb|A2|\\verb| |\\verb|=|\\verb| |\\verb|\t| \\left(\\begin{array}{rr|rr|rr|rr}\n",
       "a_{11} & 0 & 0 & 0 & a_{12} & 0 & 0 & 0 \\\\\n",
       "0 & a_{11} & 0 & 0 & 0 & a_{12} & 0 & 0 \\\\\n",
       "\\hline\n",
       " 0 & 0 & a_{11} & 0 & 0 & 0 & a_{12} & 0 \\\\\n",
       "0 & 0 & 0 & a_{11} & 0 & 0 & 0 & a_{12} \\\\\n",
       "\\hline\n",
       " a_{21} & 0 & 0 & 0 & a_{22} & 0 & 0 & 0 \\\\\n",
       "0 & a_{21} & 0 & 0 & 0 & a_{22} & 0 & 0 \\\\\n",
       "\\hline\n",
       " 0 & 0 & a_{21} & 0 & 0 & 0 & a_{22} & 0 \\\\\n",
       "0 & 0 & 0 & a_{21} & 0 & 0 & 0 & a_{22}\n",
       "\\end{array}\\right) \\verb|\t|\\verb| |\\verb|\t|\\verb| |\\verb|\t| \\verb|𝑆21𝐴1𝑆21=| \\left(\\begin{array}{rr|rr|rr|rr}\n",
       "a_{11} & 0 & 0 & 0 & a_{12} & 0 & 0 & 0 \\\\\n",
       "0 & a_{11} & 0 & 0 & 0 & a_{12} & 0 & 0 \\\\\n",
       "\\hline\n",
       " 0 & 0 & a_{11} & 0 & 0 & 0 & a_{12} & 0 \\\\\n",
       "0 & 0 & 0 & a_{11} & 0 & 0 & 0 & a_{12} \\\\\n",
       "\\hline\n",
       " a_{21} & 0 & 0 & 0 & a_{22} & 0 & 0 & 0 \\\\\n",
       "0 & a_{21} & 0 & 0 & 0 & a_{22} & 0 & 0 \\\\\n",
       "\\hline\n",
       " 0 & 0 & a_{21} & 0 & 0 & 0 & a_{22} & 0 \\\\\n",
       "0 & 0 & 0 & a_{21} & 0 & 0 & 0 & a_{22}\n",
       "\\end{array}\\right) \\verb|𝑆20𝐴0𝑆20|\\verb| |\\verb|=|\\verb| |\\verb|\t| \\left(\\begin{array}{rrrrrrrr}\n",
       "a_{11} & 0 & 0 & 0 & a_{12} & 0 & 0 & 0 \\\\\n",
       "0 & a_{11} & 0 & 0 & 0 & a_{12} & 0 & 0 \\\\\n",
       "0 & 0 & a_{11} & 0 & 0 & 0 & a_{12} & 0 \\\\\n",
       "0 & 0 & 0 & a_{11} & 0 & 0 & 0 & a_{12} \\\\\n",
       "a_{21} & 0 & 0 & 0 & a_{22} & 0 & 0 & 0 \\\\\n",
       "0 & a_{21} & 0 & 0 & 0 & a_{22} & 0 & 0 \\\\\n",
       "0 & 0 & a_{21} & 0 & 0 & 0 & a_{22} & 0 \\\\\n",
       "0 & 0 & 0 & a_{21} & 0 & 0 & 0 & a_{22}\n",
       "\\end{array}\\right)\\)</html>"
      ],
      "text/latex": [
       "$\\displaystyle \\verb|A2|\\verb| |\\verb|=|\\verb| |\\verb|\t| \\left(\\begin{array}{rr|rr|rr|rr}\n",
       "a_{11} & 0 & 0 & 0 & a_{12} & 0 & 0 & 0 \\\\\n",
       "0 & a_{11} & 0 & 0 & 0 & a_{12} & 0 & 0 \\\\\n",
       "\\hline\n",
       " 0 & 0 & a_{11} & 0 & 0 & 0 & a_{12} & 0 \\\\\n",
       "0 & 0 & 0 & a_{11} & 0 & 0 & 0 & a_{12} \\\\\n",
       "\\hline\n",
       " a_{21} & 0 & 0 & 0 & a_{22} & 0 & 0 & 0 \\\\\n",
       "0 & a_{21} & 0 & 0 & 0 & a_{22} & 0 & 0 \\\\\n",
       "\\hline\n",
       " 0 & 0 & a_{21} & 0 & 0 & 0 & a_{22} & 0 \\\\\n",
       "0 & 0 & 0 & a_{21} & 0 & 0 & 0 & a_{22}\n",
       "\\end{array}\\right) \\verb|\t|\\verb| |\\verb|\t|\\verb| |\\verb|\t| \\verb|𝑆21𝐴1𝑆21=| \\left(\\begin{array}{rr|rr|rr|rr}\n",
       "a_{11} & 0 & 0 & 0 & a_{12} & 0 & 0 & 0 \\\\\n",
       "0 & a_{11} & 0 & 0 & 0 & a_{12} & 0 & 0 \\\\\n",
       "\\hline\n",
       " 0 & 0 & a_{11} & 0 & 0 & 0 & a_{12} & 0 \\\\\n",
       "0 & 0 & 0 & a_{11} & 0 & 0 & 0 & a_{12} \\\\\n",
       "\\hline\n",
       " a_{21} & 0 & 0 & 0 & a_{22} & 0 & 0 & 0 \\\\\n",
       "0 & a_{21} & 0 & 0 & 0 & a_{22} & 0 & 0 \\\\\n",
       "\\hline\n",
       " 0 & 0 & a_{21} & 0 & 0 & 0 & a_{22} & 0 \\\\\n",
       "0 & 0 & 0 & a_{21} & 0 & 0 & 0 & a_{22}\n",
       "\\end{array}\\right) \\verb|𝑆20𝐴0𝑆20|\\verb| |\\verb|=|\\verb| |\\verb|\t| \\left(\\begin{array}{rrrrrrrr}\n",
       "a_{11} & 0 & 0 & 0 & a_{12} & 0 & 0 & 0 \\\\\n",
       "0 & a_{11} & 0 & 0 & 0 & a_{12} & 0 & 0 \\\\\n",
       "0 & 0 & a_{11} & 0 & 0 & 0 & a_{12} & 0 \\\\\n",
       "0 & 0 & 0 & a_{11} & 0 & 0 & 0 & a_{12} \\\\\n",
       "a_{21} & 0 & 0 & 0 & a_{22} & 0 & 0 & 0 \\\\\n",
       "0 & a_{21} & 0 & 0 & 0 & a_{22} & 0 & 0 \\\\\n",
       "0 & 0 & a_{21} & 0 & 0 & 0 & a_{22} & 0 \\\\\n",
       "0 & 0 & 0 & a_{21} & 0 & 0 & 0 & a_{22}\n",
       "\\end{array}\\right)$"
      ],
      "text/plain": [
       "'A2 = \\t ' [a11   0|  0   0|a12   0|  0   0]\n",
       "[  0 a11|  0   0|  0 a12|  0   0]\n",
       "[-------+-------+-------+-------]\n",
       "[  0   0|a11   0|  0   0|a12   0]\n",
       "[  0   0|  0 a11|  0   0|  0 a12]\n",
       "[-------+-------+-------+-------]\n",
       "[a21   0|  0   0|a22   0|  0   0]\n",
       "[  0 a21|  0   0|  0 a22|  0   0]\n",
       "[-------+-------+-------+-------]\n",
       "[  0   0|a21   0|  0   0|a22   0]\n",
       "[  0   0|  0 a21|  0   0|  0 a22] '\\t \\t \\t' '𝑆21𝐴1𝑆21= ' [a11   0|  0   0|a12   0|  0   0]\n",
       "[  0 a11|  0   0|  0 a12|  0   0]\n",
       "[-------+-------+-------+-------]\n",
       "[  0   0|a11   0|  0   0|a12   0]\n",
       "[  0   0|  0 a11|  0   0|  0 a12]\n",
       "[-------+-------+-------+-------]\n",
       "[a21   0|  0   0|a22   0|  0   0]\n",
       "[  0 a21|  0   0|  0 a22|  0   0]\n",
       "[-------+-------+-------+-------]\n",
       "[  0   0|a21   0|  0   0|a22   0]\n",
       "[  0   0|  0 a21|  0   0|  0 a22] '𝑆20𝐴0𝑆20 = \\t' [a11   0   0   0 a12   0   0   0]\n",
       "[  0 a11   0   0   0 a12   0   0]\n",
       "[  0   0 a11   0   0   0 a12   0]\n",
       "[  0   0   0 a11   0   0   0 a12]\n",
       "[a21   0   0   0 a22   0   0   0]\n",
       "[  0 a21   0   0   0 a22   0   0]\n",
       "[  0   0 a21   0   0   0 a22   0]\n",
       "[  0   0   0 a21   0   0   0 a22]"
      ]
     },
     "metadata": {},
     "output_type": "display_data"
    },
    {
     "name": "stdout",
     "output_type": "stream",
     "text": [
      "\n",
      "\n"
     ]
    },
    {
     "data": {
      "text/html": [
       "<html>\\(\\displaystyle \\verb|𝐴2=𝑆21𝐴1𝑆21=𝑆20𝐴0𝑆20|\\verb|  |\\verb|is|\\verb| |\\verb|:|\\verb| |\\verb|\t| \\mathrm{True}\\)</html>"
      ],
      "text/latex": [
       "$\\displaystyle \\verb|𝐴2=𝑆21𝐴1𝑆21=𝑆20𝐴0𝑆20|\\verb|  |\\verb|is|\\verb| |\\verb|:|\\verb| |\\verb|\t| \\mathrm{True}$"
      ],
      "text/plain": [
       "'𝐴2=𝑆21𝐴1𝑆21=𝑆20𝐴0𝑆20  is : \\t' True"
      ]
     },
     "metadata": {},
     "output_type": "display_data"
    }
   ],
   "source": [
    "show(\"A2 = \\t \",A_2 ,\"\\t \\t \\t\", \"𝑆21𝐴1𝑆21= \" , S21*A_1*S21, \"𝑆20𝐴0𝑆20 = \\t\" , S20*A_0*S20  )\n",
    "print(\"\\n\")\n",
    "show(\"𝐴2=𝑆21𝐴1𝑆21=𝑆20𝐴0𝑆20  is : \\t\", A_2 ==S21*A_1*S21==S20*A_0*S20)"
   ]
  },
  {
   "cell_type": "code",
   "execution_count": null,
   "id": "76afd644-ab84-42bf-a018-644927db0a29",
   "metadata": {},
   "outputs": [],
   "source": []
  },
  {
   "cell_type": "code",
   "execution_count": 14,
   "id": "7de73a18-db91-49a9-9735-22fbba3aaa00",
   "metadata": {},
   "outputs": [
    {
     "data": {
      "text/html": [
       "<html>\\(\\displaystyle \\verb|A1|\\verb| |\\verb|=|\\verb| |\\verb|\t| \\left(\\begin{array}{rr|rr|rr|rr}\n",
       "a_{11} & 0 & a_{12} & 0 & 0 & 0 & 0 & 0 \\\\\n",
       "0 & a_{11} & 0 & a_{12} & 0 & 0 & 0 & 0 \\\\\n",
       "\\hline\n",
       " a_{21} & 0 & a_{22} & 0 & 0 & 0 & 0 & 0 \\\\\n",
       "0 & a_{21} & 0 & a_{22} & 0 & 0 & 0 & 0 \\\\\n",
       "\\hline\n",
       " 0 & 0 & 0 & 0 & a_{11} & 0 & a_{12} & 0 \\\\\n",
       "0 & 0 & 0 & 0 & 0 & a_{11} & 0 & a_{12} \\\\\n",
       "\\hline\n",
       " 0 & 0 & 0 & 0 & a_{21} & 0 & a_{22} & 0 \\\\\n",
       "0 & 0 & 0 & 0 & 0 & a_{21} & 0 & a_{22}\n",
       "\\end{array}\\right) \\verb|\t|\\verb| |\\verb|\t|\\verb| |\\verb|\t| \\verb|𝑆10𝐴0𝑆10=| \\left(\\begin{array}{rrrrrrrr}\n",
       "a_{11} & 0 & a_{12} & 0 & 0 & 0 & 0 & 0 \\\\\n",
       "0 & a_{11} & 0 & a_{12} & 0 & 0 & 0 & 0 \\\\\n",
       "a_{21} & 0 & a_{22} & 0 & 0 & 0 & 0 & 0 \\\\\n",
       "0 & a_{21} & 0 & a_{22} & 0 & 0 & 0 & 0 \\\\\n",
       "0 & 0 & 0 & 0 & a_{11} & 0 & a_{12} & 0 \\\\\n",
       "0 & 0 & 0 & 0 & 0 & a_{11} & 0 & a_{12} \\\\\n",
       "0 & 0 & 0 & 0 & a_{21} & 0 & a_{22} & 0 \\\\\n",
       "0 & 0 & 0 & 0 & 0 & a_{21} & 0 & a_{22}\n",
       "\\end{array}\\right) \\verb|𝑆21𝐴2𝑆21|\\verb| |\\verb|=|\\verb| |\\verb|\t| \\left(\\begin{array}{rr|rr|rr|rr}\n",
       "a_{11} & 0 & a_{12} & 0 & 0 & 0 & 0 & 0 \\\\\n",
       "0 & a_{11} & 0 & a_{12} & 0 & 0 & 0 & 0 \\\\\n",
       "\\hline\n",
       " a_{21} & 0 & a_{22} & 0 & 0 & 0 & 0 & 0 \\\\\n",
       "0 & a_{21} & 0 & a_{22} & 0 & 0 & 0 & 0 \\\\\n",
       "\\hline\n",
       " 0 & 0 & 0 & 0 & a_{11} & 0 & a_{12} & 0 \\\\\n",
       "0 & 0 & 0 & 0 & 0 & a_{11} & 0 & a_{12} \\\\\n",
       "\\hline\n",
       " 0 & 0 & 0 & 0 & a_{21} & 0 & a_{22} & 0 \\\\\n",
       "0 & 0 & 0 & 0 & 0 & a_{21} & 0 & a_{22}\n",
       "\\end{array}\\right)\\)</html>"
      ],
      "text/latex": [
       "$\\displaystyle \\verb|A1|\\verb| |\\verb|=|\\verb| |\\verb|\t| \\left(\\begin{array}{rr|rr|rr|rr}\n",
       "a_{11} & 0 & a_{12} & 0 & 0 & 0 & 0 & 0 \\\\\n",
       "0 & a_{11} & 0 & a_{12} & 0 & 0 & 0 & 0 \\\\\n",
       "\\hline\n",
       " a_{21} & 0 & a_{22} & 0 & 0 & 0 & 0 & 0 \\\\\n",
       "0 & a_{21} & 0 & a_{22} & 0 & 0 & 0 & 0 \\\\\n",
       "\\hline\n",
       " 0 & 0 & 0 & 0 & a_{11} & 0 & a_{12} & 0 \\\\\n",
       "0 & 0 & 0 & 0 & 0 & a_{11} & 0 & a_{12} \\\\\n",
       "\\hline\n",
       " 0 & 0 & 0 & 0 & a_{21} & 0 & a_{22} & 0 \\\\\n",
       "0 & 0 & 0 & 0 & 0 & a_{21} & 0 & a_{22}\n",
       "\\end{array}\\right) \\verb|\t|\\verb| |\\verb|\t|\\verb| |\\verb|\t| \\verb|𝑆10𝐴0𝑆10=| \\left(\\begin{array}{rrrrrrrr}\n",
       "a_{11} & 0 & a_{12} & 0 & 0 & 0 & 0 & 0 \\\\\n",
       "0 & a_{11} & 0 & a_{12} & 0 & 0 & 0 & 0 \\\\\n",
       "a_{21} & 0 & a_{22} & 0 & 0 & 0 & 0 & 0 \\\\\n",
       "0 & a_{21} & 0 & a_{22} & 0 & 0 & 0 & 0 \\\\\n",
       "0 & 0 & 0 & 0 & a_{11} & 0 & a_{12} & 0 \\\\\n",
       "0 & 0 & 0 & 0 & 0 & a_{11} & 0 & a_{12} \\\\\n",
       "0 & 0 & 0 & 0 & a_{21} & 0 & a_{22} & 0 \\\\\n",
       "0 & 0 & 0 & 0 & 0 & a_{21} & 0 & a_{22}\n",
       "\\end{array}\\right) \\verb|𝑆21𝐴2𝑆21|\\verb| |\\verb|=|\\verb| |\\verb|\t| \\left(\\begin{array}{rr|rr|rr|rr}\n",
       "a_{11} & 0 & a_{12} & 0 & 0 & 0 & 0 & 0 \\\\\n",
       "0 & a_{11} & 0 & a_{12} & 0 & 0 & 0 & 0 \\\\\n",
       "\\hline\n",
       " a_{21} & 0 & a_{22} & 0 & 0 & 0 & 0 & 0 \\\\\n",
       "0 & a_{21} & 0 & a_{22} & 0 & 0 & 0 & 0 \\\\\n",
       "\\hline\n",
       " 0 & 0 & 0 & 0 & a_{11} & 0 & a_{12} & 0 \\\\\n",
       "0 & 0 & 0 & 0 & 0 & a_{11} & 0 & a_{12} \\\\\n",
       "\\hline\n",
       " 0 & 0 & 0 & 0 & a_{21} & 0 & a_{22} & 0 \\\\\n",
       "0 & 0 & 0 & 0 & 0 & a_{21} & 0 & a_{22}\n",
       "\\end{array}\\right)$"
      ],
      "text/plain": [
       "'A1 = \\t ' [a11   0|a12   0|  0   0|  0   0]\n",
       "[  0 a11|  0 a12|  0   0|  0   0]\n",
       "[-------+-------+-------+-------]\n",
       "[a21   0|a22   0|  0   0|  0   0]\n",
       "[  0 a21|  0 a22|  0   0|  0   0]\n",
       "[-------+-------+-------+-------]\n",
       "[  0   0|  0   0|a11   0|a12   0]\n",
       "[  0   0|  0   0|  0 a11|  0 a12]\n",
       "[-------+-------+-------+-------]\n",
       "[  0   0|  0   0|a21   0|a22   0]\n",
       "[  0   0|  0   0|  0 a21|  0 a22] '\\t \\t \\t' '𝑆10𝐴0𝑆10= ' [a11   0 a12   0   0   0   0   0]\n",
       "[  0 a11   0 a12   0   0   0   0]\n",
       "[a21   0 a22   0   0   0   0   0]\n",
       "[  0 a21   0 a22   0   0   0   0]\n",
       "[  0   0   0   0 a11   0 a12   0]\n",
       "[  0   0   0   0   0 a11   0 a12]\n",
       "[  0   0   0   0 a21   0 a22   0]\n",
       "[  0   0   0   0   0 a21   0 a22] '𝑆21𝐴2𝑆21 = \\t' [a11   0|a12   0|  0   0|  0   0]\n",
       "[  0 a11|  0 a12|  0   0|  0   0]\n",
       "[-------+-------+-------+-------]\n",
       "[a21   0|a22   0|  0   0|  0   0]\n",
       "[  0 a21|  0 a22|  0   0|  0   0]\n",
       "[-------+-------+-------+-------]\n",
       "[  0   0|  0   0|a11   0|a12   0]\n",
       "[  0   0|  0   0|  0 a11|  0 a12]\n",
       "[-------+-------+-------+-------]\n",
       "[  0   0|  0   0|a21   0|a22   0]\n",
       "[  0   0|  0   0|  0 a21|  0 a22]"
      ]
     },
     "metadata": {},
     "output_type": "display_data"
    },
    {
     "name": "stdout",
     "output_type": "stream",
     "text": [
      "\n",
      "\n"
     ]
    },
    {
     "data": {
      "text/html": [
       "<html>\\(\\displaystyle \\verb|𝐴1=𝑆10𝐴0𝑆10=𝑆21𝐴2𝑆21|\\verb|  |\\verb|is|\\verb| |\\verb|:|\\verb| |\\verb|\t| \\mathrm{True}\\)</html>"
      ],
      "text/latex": [
       "$\\displaystyle \\verb|𝐴1=𝑆10𝐴0𝑆10=𝑆21𝐴2𝑆21|\\verb|  |\\verb|is|\\verb| |\\verb|:|\\verb| |\\verb|\t| \\mathrm{True}$"
      ],
      "text/plain": [
       "'𝐴1=𝑆10𝐴0𝑆10=𝑆21𝐴2𝑆21  is : \\t' True"
      ]
     },
     "metadata": {},
     "output_type": "display_data"
    }
   ],
   "source": [
    "show(\"A1 = \\t \",A_1 ,\"\\t \\t \\t\", \"𝑆10𝐴0𝑆10= \" , S10*A_0*S10, \"𝑆21𝐴2𝑆21 = \\t\" , S21*A_2*S21  )\n",
    "print(\"\\n\")\n",
    "show(\"𝐴1=𝑆10𝐴0𝑆10=𝑆21𝐴2𝑆21  is : \\t\", A_1 ==S10*A_0*S10==S21*A_2*S21)"
   ]
  },
  {
   "cell_type": "code",
   "execution_count": null,
   "id": "17c39539-3700-4cf7-9cf8-bd3e255885cd",
   "metadata": {},
   "outputs": [],
   "source": []
  },
  {
   "cell_type": "code",
   "execution_count": 16,
   "id": "66e18f92-a247-4a48-a24e-c6a53d2b94c7",
   "metadata": {},
   "outputs": [
    {
     "data": {
      "text/html": [
       "<html>\\(\\displaystyle \\verb|A0|\\verb| |\\verb|=|\\verb| |\\verb|\t| \\left(\\begin{array}{rr|rr|rr|rr}\n",
       "a_{11} & a_{12} & 0 & 0 & 0 & 0 & 0 & 0 \\\\\n",
       "a_{21} & a_{22} & 0 & 0 & 0 & 0 & 0 & 0 \\\\\n",
       "\\hline\n",
       " 0 & 0 & a_{11} & a_{12} & 0 & 0 & 0 & 0 \\\\\n",
       "0 & 0 & a_{21} & a_{22} & 0 & 0 & 0 & 0 \\\\\n",
       "\\hline\n",
       " 0 & 0 & 0 & 0 & a_{11} & a_{12} & 0 & 0 \\\\\n",
       "0 & 0 & 0 & 0 & a_{21} & a_{22} & 0 & 0 \\\\\n",
       "\\hline\n",
       " 0 & 0 & 0 & 0 & 0 & 0 & a_{11} & a_{12} \\\\\n",
       "0 & 0 & 0 & 0 & 0 & 0 & a_{21} & a_{22}\n",
       "\\end{array}\\right) \\verb|\t|\\verb| |\\verb|\t|\\verb| |\\verb|\t| \\verb|𝑆10𝐴1𝑆10=| \\left(\\begin{array}{rrrrrrrr}\n",
       "a_{11} & a_{12} & 0 & 0 & 0 & 0 & 0 & 0 \\\\\n",
       "a_{21} & a_{22} & 0 & 0 & 0 & 0 & 0 & 0 \\\\\n",
       "0 & 0 & a_{11} & a_{12} & 0 & 0 & 0 & 0 \\\\\n",
       "0 & 0 & a_{21} & a_{22} & 0 & 0 & 0 & 0 \\\\\n",
       "0 & 0 & 0 & 0 & a_{11} & a_{12} & 0 & 0 \\\\\n",
       "0 & 0 & 0 & 0 & a_{21} & a_{22} & 0 & 0 \\\\\n",
       "0 & 0 & 0 & 0 & 0 & 0 & a_{11} & a_{12} \\\\\n",
       "0 & 0 & 0 & 0 & 0 & 0 & a_{21} & a_{22}\n",
       "\\end{array}\\right) \\verb|𝑆20𝐴2𝑆20|\\verb| |\\verb|=|\\verb| |\\verb|\t| \\left(\\begin{array}{rrrrrrrr}\n",
       "a_{11} & a_{12} & 0 & 0 & 0 & 0 & 0 & 0 \\\\\n",
       "a_{21} & a_{22} & 0 & 0 & 0 & 0 & 0 & 0 \\\\\n",
       "0 & 0 & a_{11} & a_{12} & 0 & 0 & 0 & 0 \\\\\n",
       "0 & 0 & a_{21} & a_{22} & 0 & 0 & 0 & 0 \\\\\n",
       "0 & 0 & 0 & 0 & a_{11} & a_{12} & 0 & 0 \\\\\n",
       "0 & 0 & 0 & 0 & a_{21} & a_{22} & 0 & 0 \\\\\n",
       "0 & 0 & 0 & 0 & 0 & 0 & a_{11} & a_{12} \\\\\n",
       "0 & 0 & 0 & 0 & 0 & 0 & a_{21} & a_{22}\n",
       "\\end{array}\\right)\\)</html>"
      ],
      "text/latex": [
       "$\\displaystyle \\verb|A0|\\verb| |\\verb|=|\\verb| |\\verb|\t| \\left(\\begin{array}{rr|rr|rr|rr}\n",
       "a_{11} & a_{12} & 0 & 0 & 0 & 0 & 0 & 0 \\\\\n",
       "a_{21} & a_{22} & 0 & 0 & 0 & 0 & 0 & 0 \\\\\n",
       "\\hline\n",
       " 0 & 0 & a_{11} & a_{12} & 0 & 0 & 0 & 0 \\\\\n",
       "0 & 0 & a_{21} & a_{22} & 0 & 0 & 0 & 0 \\\\\n",
       "\\hline\n",
       " 0 & 0 & 0 & 0 & a_{11} & a_{12} & 0 & 0 \\\\\n",
       "0 & 0 & 0 & 0 & a_{21} & a_{22} & 0 & 0 \\\\\n",
       "\\hline\n",
       " 0 & 0 & 0 & 0 & 0 & 0 & a_{11} & a_{12} \\\\\n",
       "0 & 0 & 0 & 0 & 0 & 0 & a_{21} & a_{22}\n",
       "\\end{array}\\right) \\verb|\t|\\verb| |\\verb|\t|\\verb| |\\verb|\t| \\verb|𝑆10𝐴1𝑆10=| \\left(\\begin{array}{rrrrrrrr}\n",
       "a_{11} & a_{12} & 0 & 0 & 0 & 0 & 0 & 0 \\\\\n",
       "a_{21} & a_{22} & 0 & 0 & 0 & 0 & 0 & 0 \\\\\n",
       "0 & 0 & a_{11} & a_{12} & 0 & 0 & 0 & 0 \\\\\n",
       "0 & 0 & a_{21} & a_{22} & 0 & 0 & 0 & 0 \\\\\n",
       "0 & 0 & 0 & 0 & a_{11} & a_{12} & 0 & 0 \\\\\n",
       "0 & 0 & 0 & 0 & a_{21} & a_{22} & 0 & 0 \\\\\n",
       "0 & 0 & 0 & 0 & 0 & 0 & a_{11} & a_{12} \\\\\n",
       "0 & 0 & 0 & 0 & 0 & 0 & a_{21} & a_{22}\n",
       "\\end{array}\\right) \\verb|𝑆20𝐴2𝑆20|\\verb| |\\verb|=|\\verb| |\\verb|\t| \\left(\\begin{array}{rrrrrrrr}\n",
       "a_{11} & a_{12} & 0 & 0 & 0 & 0 & 0 & 0 \\\\\n",
       "a_{21} & a_{22} & 0 & 0 & 0 & 0 & 0 & 0 \\\\\n",
       "0 & 0 & a_{11} & a_{12} & 0 & 0 & 0 & 0 \\\\\n",
       "0 & 0 & a_{21} & a_{22} & 0 & 0 & 0 & 0 \\\\\n",
       "0 & 0 & 0 & 0 & a_{11} & a_{12} & 0 & 0 \\\\\n",
       "0 & 0 & 0 & 0 & a_{21} & a_{22} & 0 & 0 \\\\\n",
       "0 & 0 & 0 & 0 & 0 & 0 & a_{11} & a_{12} \\\\\n",
       "0 & 0 & 0 & 0 & 0 & 0 & a_{21} & a_{22}\n",
       "\\end{array}\\right)$"
      ],
      "text/plain": [
       "'A0 = \\t ' [a11 a12|  0   0|  0   0|  0   0]\n",
       "[a21 a22|  0   0|  0   0|  0   0]\n",
       "[-------+-------+-------+-------]\n",
       "[  0   0|a11 a12|  0   0|  0   0]\n",
       "[  0   0|a21 a22|  0   0|  0   0]\n",
       "[-------+-------+-------+-------]\n",
       "[  0   0|  0   0|a11 a12|  0   0]\n",
       "[  0   0|  0   0|a21 a22|  0   0]\n",
       "[-------+-------+-------+-------]\n",
       "[  0   0|  0   0|  0   0|a11 a12]\n",
       "[  0   0|  0   0|  0   0|a21 a22] '\\t \\t \\t' '𝑆10𝐴1𝑆10= ' [a11 a12   0   0   0   0   0   0]\n",
       "[a21 a22   0   0   0   0   0   0]\n",
       "[  0   0 a11 a12   0   0   0   0]\n",
       "[  0   0 a21 a22   0   0   0   0]\n",
       "[  0   0   0   0 a11 a12   0   0]\n",
       "[  0   0   0   0 a21 a22   0   0]\n",
       "[  0   0   0   0   0   0 a11 a12]\n",
       "[  0   0   0   0   0   0 a21 a22] '𝑆20𝐴2𝑆20 = \\t' [a11 a12   0   0   0   0   0   0]\n",
       "[a21 a22   0   0   0   0   0   0]\n",
       "[  0   0 a11 a12   0   0   0   0]\n",
       "[  0   0 a21 a22   0   0   0   0]\n",
       "[  0   0   0   0 a11 a12   0   0]\n",
       "[  0   0   0   0 a21 a22   0   0]\n",
       "[  0   0   0   0   0   0 a11 a12]\n",
       "[  0   0   0   0   0   0 a21 a22]"
      ]
     },
     "metadata": {},
     "output_type": "display_data"
    },
    {
     "name": "stdout",
     "output_type": "stream",
     "text": [
      "\n",
      "\n"
     ]
    },
    {
     "data": {
      "text/html": [
       "<html>\\(\\displaystyle \\verb|𝐴0=𝑆10𝐴1𝑆10=𝑆20𝐴2𝑆20|\\verb|  |\\verb|is|\\verb| |\\verb|:|\\verb| |\\verb|\t| \\mathrm{True}\\)</html>"
      ],
      "text/latex": [
       "$\\displaystyle \\verb|𝐴0=𝑆10𝐴1𝑆10=𝑆20𝐴2𝑆20|\\verb|  |\\verb|is|\\verb| |\\verb|:|\\verb| |\\verb|\t| \\mathrm{True}$"
      ],
      "text/plain": [
       "'𝐴0=𝑆10𝐴1𝑆10=𝑆20𝐴2𝑆20  is : \\t' True"
      ]
     },
     "metadata": {},
     "output_type": "display_data"
    }
   ],
   "source": [
    "# %latex\n",
    "show(\"A0 = \\t \",A_0 ,\"\\t \\t \\t\", \"𝑆10𝐴1𝑆10= \" , S10*A_1*S10, \"𝑆20𝐴2𝑆20 = \\t\" , S20*A_2*S20  )\n",
    "print(\"\\n\")\n",
    "show(\"𝐴0=𝑆10𝐴1𝑆10=𝑆20𝐴2𝑆20  is : \\t\", A_0 ==S10*A_1*S10==S20*A_2*S20)"
   ]
  },
  {
   "cell_type": "code",
   "execution_count": null,
   "id": "901a867c-b6f2-46ac-b255-347cddae6163",
   "metadata": {},
   "outputs": [],
   "source": []
  },
  {
   "cell_type": "markdown",
   "id": "56c96513-3465-4447-8847-1a3070e6623b",
   "metadata": {},
   "source": [
    "(b) Verify the 3-qubit identity (which we'll use in studying quantum dense coding)\n",
    "\n",
    "$$\n",
    "C_{02}^{X} C_{12}^{X} C_{01}^{X}=C_{01}^{X} C_{12}^{X}\n",
    "$$\n",
    "\n",
    "using sage. Hint: note that here\n",
    "\n",
    "$$\n",
    "\\begin{aligned}\n",
    "C_{01}^{X} & =\\mathbb{I} \\otimes C^{X}, \\\\\n",
    "C_{12}^{X} & =C^{X} \\otimes \\mathbb{I},\n",
    "\\end{aligned}\n",
    "$$\n",
    "\n",
    "where $\\mathbb{I}$ is the $2 \\times 2$ identity matrix, $C^{X}$ is the $4 \\times 4$ matrix $C_{01}^{X}$ in (8); and, as in (3),\n",
    "\n",
    "$$\n",
    "C_{02}^{X}=S_{21} C_{01}^{X} S_{21}, \\quad S_{21}=S \\otimes \\mathbb{I}\n",
    "$$\n",
    "\n",
    "where $S$ is the $4 \\times 4$ matrix in (5). Equivalently,\n",
    "\n",
    "$$\n",
    "C_{02}^{X}=S_{10} C_{12}^{X} S_{10}, \\quad S_{10}=\\mathbb{I} \\otimes S\n",
    "$$\n",
    "\n"
   ]
  },
  {
   "cell_type": "code",
   "execution_count": null,
   "id": "d02acee9-3bcd-45b7-a097-50e8a74b6ae9",
   "metadata": {},
   "outputs": [],
   "source": []
  },
  {
   "cell_type": "markdown",
   "id": "e0b4f475-13b3-4f9c-b9b6-70e0fb194de0",
   "metadata": {},
   "source": [
    "$$\n",
    "C_{02}^{X} C_{12}^{X} C_{01}^{X}=C_{01}^{X} C_{12}^{X}\n",
    "$$"
   ]
  },
  {
   "cell_type": "code",
   "execution_count": 17,
   "id": "a70efe2f-fb13-4727-91bf-fbea30488dbc",
   "metadata": {},
   "outputs": [
    {
     "data": {
      "text/html": [
       "<html>\\(\\displaystyle \\verb|𝐶𝑋01𝐶𝑋12=|\\verb| |\\verb|\t| \\left(\\begin{array}{rrrrrrrr}\n",
       "1 & 0 & 0 & 0 & 0 & 0 & 0 & 0 \\\\\n",
       "0 & 0 & 0 & 0 & 0 & 0 & 0 & 1 \\\\\n",
       "0 & 0 & 0 & 0 & 0 & 0 & 1 & 0 \\\\\n",
       "0 & 1 & 0 & 0 & 0 & 0 & 0 & 0 \\\\\n",
       "0 & 0 & 0 & 0 & 1 & 0 & 0 & 0 \\\\\n",
       "0 & 0 & 0 & 1 & 0 & 0 & 0 & 0 \\\\\n",
       "0 & 0 & 1 & 0 & 0 & 0 & 0 & 0 \\\\\n",
       "0 & 0 & 0 & 0 & 0 & 1 & 0 & 0\n",
       "\\end{array}\\right) \\verb|\t|\\verb| |\\verb|𝐶𝑋02𝐶𝑋12𝐶𝑋01=|\\verb| |\\verb|\t| \\left(\\begin{array}{rrrrrrrr}\n",
       "1 & 0 & 0 & 0 & 0 & 0 & 0 & 0 \\\\\n",
       "0 & 0 & 0 & 0 & 0 & 0 & 0 & 1 \\\\\n",
       "0 & 0 & 0 & 0 & 0 & 0 & 1 & 0 \\\\\n",
       "0 & 1 & 0 & 0 & 0 & 0 & 0 & 0 \\\\\n",
       "0 & 0 & 0 & 0 & 1 & 0 & 0 & 0 \\\\\n",
       "0 & 0 & 0 & 1 & 0 & 0 & 0 & 0 \\\\\n",
       "0 & 0 & 1 & 0 & 0 & 0 & 0 & 0 \\\\\n",
       "0 & 0 & 0 & 0 & 0 & 1 & 0 & 0\n",
       "\\end{array}\\right) \\verb| |\\verb|This|\\verb| |\\verb|shows|\\verb| |\\verb|that|\\verb| |\\verb|lhs|\\verb| |\\verb|==|\\verb| |\\verb|rhs|\\verb| |\\verb|is:|\\verb| |\\verb|\t| \\mathrm{True}\\)</html>"
      ],
      "text/latex": [
       "$\\displaystyle \\verb|𝐶𝑋01𝐶𝑋12=|\\verb| |\\verb|\t| \\left(\\begin{array}{rrrrrrrr}\n",
       "1 & 0 & 0 & 0 & 0 & 0 & 0 & 0 \\\\\n",
       "0 & 0 & 0 & 0 & 0 & 0 & 0 & 1 \\\\\n",
       "0 & 0 & 0 & 0 & 0 & 0 & 1 & 0 \\\\\n",
       "0 & 1 & 0 & 0 & 0 & 0 & 0 & 0 \\\\\n",
       "0 & 0 & 0 & 0 & 1 & 0 & 0 & 0 \\\\\n",
       "0 & 0 & 0 & 1 & 0 & 0 & 0 & 0 \\\\\n",
       "0 & 0 & 1 & 0 & 0 & 0 & 0 & 0 \\\\\n",
       "0 & 0 & 0 & 0 & 0 & 1 & 0 & 0\n",
       "\\end{array}\\right) \\verb|\t|\\verb| |\\verb|𝐶𝑋02𝐶𝑋12𝐶𝑋01=|\\verb| |\\verb|\t| \\left(\\begin{array}{rrrrrrrr}\n",
       "1 & 0 & 0 & 0 & 0 & 0 & 0 & 0 \\\\\n",
       "0 & 0 & 0 & 0 & 0 & 0 & 0 & 1 \\\\\n",
       "0 & 0 & 0 & 0 & 0 & 0 & 1 & 0 \\\\\n",
       "0 & 1 & 0 & 0 & 0 & 0 & 0 & 0 \\\\\n",
       "0 & 0 & 0 & 0 & 1 & 0 & 0 & 0 \\\\\n",
       "0 & 0 & 0 & 1 & 0 & 0 & 0 & 0 \\\\\n",
       "0 & 0 & 1 & 0 & 0 & 0 & 0 & 0 \\\\\n",
       "0 & 0 & 0 & 0 & 0 & 1 & 0 & 0\n",
       "\\end{array}\\right) \\verb| |\\verb|This|\\verb| |\\verb|shows|\\verb| |\\verb|that|\\verb| |\\verb|lhs|\\verb| |\\verb|==|\\verb| |\\verb|rhs|\\verb| |\\verb|is:|\\verb| |\\verb|\t| \\mathrm{True}$"
      ],
      "text/plain": [
       "'𝐶𝑋01𝐶𝑋12= \\t' [1 0 0 0 0 0 0 0]\n",
       "[0 0 0 0 0 0 0 1]\n",
       "[0 0 0 0 0 0 1 0]\n",
       "[0 1 0 0 0 0 0 0]\n",
       "[0 0 0 0 1 0 0 0]\n",
       "[0 0 0 1 0 0 0 0]\n",
       "[0 0 1 0 0 0 0 0]\n",
       "[0 0 0 0 0 1 0 0] '\\t 𝐶𝑋02𝐶𝑋12𝐶𝑋01= \\t' [1 0 0 0 0 0 0 0]\n",
       "[0 0 0 0 0 0 0 1]\n",
       "[0 0 0 0 0 0 1 0]\n",
       "[0 1 0 0 0 0 0 0]\n",
       "[0 0 0 0 1 0 0 0]\n",
       "[0 0 0 1 0 0 0 0]\n",
       "[0 0 1 0 0 0 0 0]\n",
       "[0 0 0 0 0 1 0 0] ' This shows that lhs == rhs is: \\t' True"
      ]
     },
     "metadata": {},
     "output_type": "display_data"
    }
   ],
   "source": [
    "CX= matrix([[1,0,0,0],[0,0,0,1], [0,0,1,0], [0,1,0,0]])\n",
    "cx_01 = matrix.identity(2).tensor_product(CX)\n",
    "cx_12 = CX.tensor_product(matrix.identity(2))\n",
    "cx_02 = S21*cx_01*S21\n",
    "\n",
    "lhs = cx_01*cx_12\n",
    "rhs = cx_02*cx_12*cx_01\n",
    "\n",
    "show(\"𝐶𝑋01𝐶𝑋12= \\t\" , lhs , \"\\t 𝐶𝑋02𝐶𝑋12𝐶𝑋01= \\t\", rhs , \" This shows that lhs == rhs is: \\t\", lhs ==rhs)"
   ]
  },
  {
   "cell_type": "code",
   "execution_count": null,
   "id": "73091fc1-33f4-431c-9ef7-5587106f3ee4",
   "metadata": {},
   "outputs": [],
   "source": []
  },
  {
   "cell_type": "markdown",
   "id": "f6455419-1457-4b16-9632-00f44036c2fb",
   "metadata": {},
   "source": [
    "(c) Similarly, verify the 3-qubit identity (which we'll use in studying quantum teleportation)\n",
    "\n",
    "$$\n",
    "C_{12}^{X} C_{01}^{X} C_{12}^{X}=C_{02}^{X} C_{01}^{X} .\n",
    "$$"
   ]
  },
  {
   "cell_type": "code",
   "execution_count": 18,
   "id": "53da92bf-43b7-45bb-b996-90b7ee3cec7b",
   "metadata": {},
   "outputs": [
    {
     "data": {
      "text/html": [
       "<html>\\(\\displaystyle \\verb|cx_02*cx_01=|\\verb| |\\verb|\t| \\left(\\begin{array}{rrrrrrrr}\n",
       "1 & 0 & 0 & 0 & 0 & 0 & 0 & 0 \\\\\n",
       "0 & 0 & 0 & 0 & 0 & 0 & 0 & 1 \\\\\n",
       "0 & 0 & 1 & 0 & 0 & 0 & 0 & 0 \\\\\n",
       "0 & 0 & 0 & 0 & 0 & 1 & 0 & 0 \\\\\n",
       "0 & 0 & 0 & 0 & 1 & 0 & 0 & 0 \\\\\n",
       "0 & 0 & 0 & 1 & 0 & 0 & 0 & 0 \\\\\n",
       "0 & 0 & 0 & 0 & 0 & 0 & 1 & 0 \\\\\n",
       "0 & 1 & 0 & 0 & 0 & 0 & 0 & 0\n",
       "\\end{array}\\right) \\verb|\t|\\verb| |\\verb|cx_12*cx_01*cx_12=|\\verb| |\\verb|\t| \\left(\\begin{array}{rrrrrrrr}\n",
       "1 & 0 & 0 & 0 & 0 & 0 & 0 & 0 \\\\\n",
       "0 & 0 & 0 & 0 & 0 & 0 & 0 & 1 \\\\\n",
       "0 & 0 & 1 & 0 & 0 & 0 & 0 & 0 \\\\\n",
       "0 & 0 & 0 & 0 & 0 & 1 & 0 & 0 \\\\\n",
       "0 & 0 & 0 & 0 & 1 & 0 & 0 & 0 \\\\\n",
       "0 & 0 & 0 & 1 & 0 & 0 & 0 & 0 \\\\\n",
       "0 & 0 & 0 & 0 & 0 & 0 & 1 & 0 \\\\\n",
       "0 & 1 & 0 & 0 & 0 & 0 & 0 & 0\n",
       "\\end{array}\\right) \\verb| |\\verb|This|\\verb| |\\verb|shows|\\verb| |\\verb|that|\\verb| |\\verb|lhs|\\verb| |\\verb|==|\\verb| |\\verb|rhs|\\verb| |\\verb|is:|\\verb| |\\verb|\t| \\mathrm{True}\\)</html>"
      ],
      "text/latex": [
       "$\\displaystyle \\verb|cx_02*cx_01=|\\verb| |\\verb|\t| \\left(\\begin{array}{rrrrrrrr}\n",
       "1 & 0 & 0 & 0 & 0 & 0 & 0 & 0 \\\\\n",
       "0 & 0 & 0 & 0 & 0 & 0 & 0 & 1 \\\\\n",
       "0 & 0 & 1 & 0 & 0 & 0 & 0 & 0 \\\\\n",
       "0 & 0 & 0 & 0 & 0 & 1 & 0 & 0 \\\\\n",
       "0 & 0 & 0 & 0 & 1 & 0 & 0 & 0 \\\\\n",
       "0 & 0 & 0 & 1 & 0 & 0 & 0 & 0 \\\\\n",
       "0 & 0 & 0 & 0 & 0 & 0 & 1 & 0 \\\\\n",
       "0 & 1 & 0 & 0 & 0 & 0 & 0 & 0\n",
       "\\end{array}\\right) \\verb|\t|\\verb| |\\verb|cx_12*cx_01*cx_12=|\\verb| |\\verb|\t| \\left(\\begin{array}{rrrrrrrr}\n",
       "1 & 0 & 0 & 0 & 0 & 0 & 0 & 0 \\\\\n",
       "0 & 0 & 0 & 0 & 0 & 0 & 0 & 1 \\\\\n",
       "0 & 0 & 1 & 0 & 0 & 0 & 0 & 0 \\\\\n",
       "0 & 0 & 0 & 0 & 0 & 1 & 0 & 0 \\\\\n",
       "0 & 0 & 0 & 0 & 1 & 0 & 0 & 0 \\\\\n",
       "0 & 0 & 0 & 1 & 0 & 0 & 0 & 0 \\\\\n",
       "0 & 0 & 0 & 0 & 0 & 0 & 1 & 0 \\\\\n",
       "0 & 1 & 0 & 0 & 0 & 0 & 0 & 0\n",
       "\\end{array}\\right) \\verb| |\\verb|This|\\verb| |\\verb|shows|\\verb| |\\verb|that|\\verb| |\\verb|lhs|\\verb| |\\verb|==|\\verb| |\\verb|rhs|\\verb| |\\verb|is:|\\verb| |\\verb|\t| \\mathrm{True}$"
      ],
      "text/plain": [
       "'cx_02*cx_01= \\t' [1 0 0 0 0 0 0 0]\n",
       "[0 0 0 0 0 0 0 1]\n",
       "[0 0 1 0 0 0 0 0]\n",
       "[0 0 0 0 0 1 0 0]\n",
       "[0 0 0 0 1 0 0 0]\n",
       "[0 0 0 1 0 0 0 0]\n",
       "[0 0 0 0 0 0 1 0]\n",
       "[0 1 0 0 0 0 0 0] '\\t cx_12*cx_01*cx_12= \\t' [1 0 0 0 0 0 0 0]\n",
       "[0 0 0 0 0 0 0 1]\n",
       "[0 0 1 0 0 0 0 0]\n",
       "[0 0 0 0 0 1 0 0]\n",
       "[0 0 0 0 1 0 0 0]\n",
       "[0 0 0 1 0 0 0 0]\n",
       "[0 0 0 0 0 0 1 0]\n",
       "[0 1 0 0 0 0 0 0] ' This shows that lhs == rhs is: \\t' True"
      ]
     },
     "metadata": {},
     "output_type": "display_data"
    }
   ],
   "source": [
    "lhs = cx_02*cx_01\n",
    "rhs = cx_12*cx_01*cx_12\n",
    "\n",
    "show(\"cx_02*cx_01= \\t\" , lhs , \"\\t cx_12*cx_01*cx_12= \\t\", rhs , \" This shows that lhs == rhs is: \\t\", lhs ==rhs)"
   ]
  },
  {
   "cell_type": "code",
   "execution_count": null,
   "id": "411836e8-ee79-4bac-818e-4bf8a92dedf7",
   "metadata": {},
   "outputs": [],
   "source": []
  }
 ],
 "metadata": {
  "kernelspec": {
   "display_name": "SageMath 10.4",
   "language": "sage",
   "name": "sagemath"
  },
  "language_info": {
   "codemirror_mode": {
    "name": "ipython",
    "version": 3
   },
   "file_extension": ".py",
   "mimetype": "text/x-python",
   "name": "python",
   "nbconvert_exporter": "python",
   "pygments_lexer": "ipython3",
   "version": "3.11.2"
  }
 },
 "nbformat": 4,
 "nbformat_minor": 5
}
